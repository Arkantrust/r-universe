{
  "nbformat": 4,
  "nbformat_minor": 0,
  "metadata": {
    "colab": {
      "provenance": []
    },
    "kernelspec": {
      "name": "ir",
      "display_name": "R"
    },
    "language_info": {
      "name": "R"
    }
  },
  "cells": [
    {
      "cell_type": "markdown",
      "source": [
        "# Módulo 3: Paquetes y Carga de datos\n",
        "\n",
        "En este tercer módulo concentraremos nuestra atención en cómo instalar y cargar paquetes y cómo cargar bases de datos que se encuentren en archivos.\n",
        "\n",
        "Al finalizar este módulo estarás en capacidad de:\n",
        "\n",
        "- Instalar y cargar paquetes en R\n",
        "- Cargar bases de datos de paquetes y que estén en archivos `.txt`, `.xlxs` y `.csv`\n",
        "\n"
      ],
      "metadata": {
        "id": "u8PbhU1WjRbR"
      }
    },
    {
      "cell_type": "code",
      "source": [
        "install.packages(\"gapminder\")\n",
        "install.packages(\"readxl\")\n",
        "install.packages(\"tidyverse\")"
      ],
      "metadata": {
        "colab": {
          "base_uri": "https://localhost:8080/"
        },
        "id": "qIr-nLrUnrO1",
        "outputId": "38b1e92d-eda6-4f66-e649-01762247df54"
      },
      "execution_count": 51,
      "outputs": [
        {
          "output_type": "stream",
          "name": "stderr",
          "text": [
            "Installing package into ‘/usr/local/lib/R/site-library’\n",
            "(as ‘lib’ is unspecified)\n",
            "\n",
            "Installing package into ‘/usr/local/lib/R/site-library’\n",
            "(as ‘lib’ is unspecified)\n",
            "\n",
            "Installing package into ‘/usr/local/lib/R/site-library’\n",
            "(as ‘lib’ is unspecified)\n",
            "\n"
          ]
        }
      ]
    },
    {
      "cell_type": "markdown",
      "source": [
        "## Paquetes\n",
        "\n",
        "Ya tenemos claro cómo se escriben líneas de código para hacer operaciones aritméticas, de relación y lógicas en R. También tenemos claro los diferentes tipos de objetos que existen en R y ya conocemos algunas funciones.\n",
        "\n",
        "Ahora, podemos hablar de los paquetes en R. Los paquetes son un conjunto de funciones y bases de datos desarrollados por la comunidad. Aumentan la potencia de R mejorando las funcionalidades básicas de R existentes o añadiendo otras nuevas.\n",
        "\n",
        "Tu primera actividad será leer el Capítulo 7 del libro Empezando a usaR: Una guía paso a paso.  Recuerda que el libro lo encuentras  en el menú principal del curso en el primer módulo o haciendo click en el siguiente link:\n",
        "\n",
        "Empezando a usaR: Una guía paso a paso.\n",
        "\n",
        "Una vez termines de leer el Capítulo 7, regresa a esta página para continuar con nuestras actividades de este módulo.  No continúes si aún no has leído el Capítulo 7 del libro."
      ],
      "metadata": {
        "id": "eRmQpQMcDGoD"
      }
    },
    {
      "cell_type": "markdown",
      "source": [
        "1. Un paquete en R es una colección de `funciones`, código y datos que sirve para realizar tareas `específicas`."
      ],
      "metadata": {
        "id": "P2DHoMXZkyRh"
      }
    },
    {
      "cell_type": "markdown",
      "source": [
        "2. Si quiero usar un paquete debo cargarlo cada vez que lo necesite, y para eso se usa la función `library()`.\n",
        "\n",
        "No es load.library"
      ],
      "metadata": {
        "id": "jfvLgNA1lFpc"
      }
    },
    {
      "cell_type": "markdown",
      "source": [
        "## Carga de datos\n",
        "\n",
        "Ya tenemos claro cómo instalar y cargar paquetes en R. Ahora, concentremos nuestra atención en cómo cargar datos que se encuentren incluidos en paquetes o en archivos `.txt`, `.csv` o `.xlxs`.\n",
        "\n",
        "Lee el Capítulo 8 del libro Empezando a usaR: Una guía paso a paso.  Ya sabes dónde encontrar el libro.\n",
        "\n",
        "Una vez termines de leer el Capítulo 8, regresa a esta página para hacer un ejercicio y posteriormente unas unas actividades de chequeo. No continúes si aún no has leído el Capítulo 8 del libro."
      ],
      "metadata": {
        "id": "4urW-GzulQJV"
      }
    },
    {
      "cell_type": "markdown",
      "source": [
        "### Archivos `.txt`"
      ],
      "metadata": {
        "id": "NBq_D2-mlm8-"
      }
    },
    {
      "cell_type": "code",
      "source": [
        "# leyendo el archivo .txt\n",
        "# puede que se necesite usar la ruta absoluta del archivo\n",
        "employee <- read.table(\"employee.txt\", header = TRUE, sep = \",\")\n",
        "\n",
        "class(employee)"
      ],
      "metadata": {
        "id": "N2ThrTESltHN"
      },
      "execution_count": null,
      "outputs": []
    },
    {
      "cell_type": "markdown",
      "source": [
        "### Archivos `.csv`"
      ],
      "metadata": {
        "id": "YW5ReYRomj40"
      }
    },
    {
      "cell_type": "code",
      "source": [
        "# leyendo el archivo .csv\n",
        "employee2 <- read.csv(\"employee.csv\", header = TRUE, sep = \";\")\n",
        "\n",
        "# verificando la clase del objeto\n",
        "class(employee2)"
      ],
      "metadata": {
        "id": "v6U1zs95mi-B"
      },
      "execution_count": null,
      "outputs": []
    },
    {
      "cell_type": "markdown",
      "source": [
        "### Archivos `.xlsx`"
      ],
      "metadata": {
        "id": "36iLrxYInEpf"
      }
    },
    {
      "cell_type": "code",
      "source": [
        "# install.packages(\"readxl\")\n",
        "# cargando el paquete\n",
        "library(readxl)\n",
        "\n",
        "# leyendo datos del archivo .xlsx que está en hoja2\n",
        "employee3 <- read_excel(\"employee.xlsx\", sheet = 2, range = \"C2:E62\")\n",
        "\n",
        "class(employee3)"
      ],
      "metadata": {
        "id": "q2lLSr0qnITt"
      },
      "execution_count": null,
      "outputs": []
    },
    {
      "cell_type": "markdown",
      "source": [
        "### Extraer datos de paquetes"
      ],
      "metadata": {
        "id": "qR3ZNBC1ni5H"
      }
    },
    {
      "cell_type": "code",
      "source": [
        "# install.packages(\"gapminder\")\n",
        "\n",
        "# cargando el paquete gapminder\n",
        "library(gapminder)\n",
        "\n",
        "# listando las bases de datos disponibles\n",
        "data()"
      ],
      "metadata": {
        "id": "FXW0OOSnnlI4"
      },
      "execution_count": 12,
      "outputs": []
    },
    {
      "cell_type": "markdown",
      "source": [
        "Para listar bases de datos específicas"
      ],
      "metadata": {
        "id": "hSleKTFwn7hW"
      }
    },
    {
      "cell_type": "code",
      "source": [
        "data(package = 'gapminder')\n",
        "\n",
        "head(gapminder)"
      ],
      "metadata": {
        "colab": {
          "base_uri": "https://localhost:8080/",
          "height": 286
        },
        "id": "CNtkD7D0n6xc",
        "outputId": "2bf1effb-a196-4a7e-dfb5-82e01f5cd1a8"
      },
      "execution_count": 52,
      "outputs": [
        {
          "output_type": "display_data",
          "data": {
            "text/html": [
              "<table class=\"dataframe\">\n",
              "<caption>A tibble: 6 × 6</caption>\n",
              "<thead>\n",
              "\t<tr><th scope=col>country</th><th scope=col>continent</th><th scope=col>year</th><th scope=col>lifeExp</th><th scope=col>pop</th><th scope=col>gdpPercap</th></tr>\n",
              "\t<tr><th scope=col>&lt;fct&gt;</th><th scope=col>&lt;fct&gt;</th><th scope=col>&lt;int&gt;</th><th scope=col>&lt;dbl&gt;</th><th scope=col>&lt;int&gt;</th><th scope=col>&lt;dbl&gt;</th></tr>\n",
              "</thead>\n",
              "<tbody>\n",
              "\t<tr><td>Afghanistan</td><td>Asia</td><td>1952</td><td>28.801</td><td> 8425333</td><td>779.4453</td></tr>\n",
              "\t<tr><td>Afghanistan</td><td>Asia</td><td>1957</td><td>30.332</td><td> 9240934</td><td>820.8530</td></tr>\n",
              "\t<tr><td>Afghanistan</td><td>Asia</td><td>1962</td><td>31.997</td><td>10267083</td><td>853.1007</td></tr>\n",
              "\t<tr><td>Afghanistan</td><td>Asia</td><td>1967</td><td>34.020</td><td>11537966</td><td>836.1971</td></tr>\n",
              "\t<tr><td>Afghanistan</td><td>Asia</td><td>1972</td><td>36.088</td><td>13079460</td><td>739.9811</td></tr>\n",
              "\t<tr><td>Afghanistan</td><td>Asia</td><td>1977</td><td>38.438</td><td>14880372</td><td>786.1134</td></tr>\n",
              "</tbody>\n",
              "</table>\n"
            ],
            "text/markdown": "\nA tibble: 6 × 6\n\n| country &lt;fct&gt; | continent &lt;fct&gt; | year &lt;int&gt; | lifeExp &lt;dbl&gt; | pop &lt;int&gt; | gdpPercap &lt;dbl&gt; |\n|---|---|---|---|---|---|\n| Afghanistan | Asia | 1952 | 28.801 |  8425333 | 779.4453 |\n| Afghanistan | Asia | 1957 | 30.332 |  9240934 | 820.8530 |\n| Afghanistan | Asia | 1962 | 31.997 | 10267083 | 853.1007 |\n| Afghanistan | Asia | 1967 | 34.020 | 11537966 | 836.1971 |\n| Afghanistan | Asia | 1972 | 36.088 | 13079460 | 739.9811 |\n| Afghanistan | Asia | 1977 | 38.438 | 14880372 | 786.1134 |\n\n",
            "text/latex": "A tibble: 6 × 6\n\\begin{tabular}{llllll}\n country & continent & year & lifeExp & pop & gdpPercap\\\\\n <fct> & <fct> & <int> & <dbl> & <int> & <dbl>\\\\\n\\hline\n\t Afghanistan & Asia & 1952 & 28.801 &  8425333 & 779.4453\\\\\n\t Afghanistan & Asia & 1957 & 30.332 &  9240934 & 820.8530\\\\\n\t Afghanistan & Asia & 1962 & 31.997 & 10267083 & 853.1007\\\\\n\t Afghanistan & Asia & 1967 & 34.020 & 11537966 & 836.1971\\\\\n\t Afghanistan & Asia & 1972 & 36.088 & 13079460 & 739.9811\\\\\n\t Afghanistan & Asia & 1977 & 38.438 & 14880372 & 786.1134\\\\\n\\end{tabular}\n",
            "text/plain": [
              "  country     continent year lifeExp pop      gdpPercap\n",
              "1 Afghanistan Asia      1952 28.801   8425333 779.4453 \n",
              "2 Afghanistan Asia      1957 30.332   9240934 820.8530 \n",
              "3 Afghanistan Asia      1962 31.997  10267083 853.1007 \n",
              "4 Afghanistan Asia      1967 34.020  11537966 836.1971 \n",
              "5 Afghanistan Asia      1972 36.088  13079460 739.9811 \n",
              "6 Afghanistan Asia      1977 38.438  14880372 786.1134 "
            ]
          },
          "metadata": {}
        }
      ]
    },
    {
      "cell_type": "code",
      "source": [
        "library(gapminder)\n",
        "\n",
        "colombia <- gapminder %>%\n",
        "  filter(country == \"Colombia\") %>%\n",
        "  slice(1) %>%\n",
        "  select(-year) %>%\n",
        "  summarise(meanLifeExp = mean(lifeExp), meanPop = mean(pop), meanGdpPercap = mean(gdpPercap))\n",
        "\n",
        "colombia"
      ],
      "metadata": {
        "colab": {
          "base_uri": "https://localhost:8080/",
          "height": 129
        },
        "id": "PiG7Pffpob83",
        "outputId": "e75e7fa5-9d57-4b9a-b8a6-48f1c47cdb60"
      },
      "execution_count": 58,
      "outputs": [
        {
          "output_type": "display_data",
          "data": {
            "text/html": [
              "<table class=\"dataframe\">\n",
              "<caption>A tibble: 1 × 3</caption>\n",
              "<thead>\n",
              "\t<tr><th scope=col>meanLifeExp</th><th scope=col>meanPop</th><th scope=col>meanGdpPercap</th></tr>\n",
              "\t<tr><th scope=col>&lt;dbl&gt;</th><th scope=col>&lt;dbl&gt;</th><th scope=col>&lt;dbl&gt;</th></tr>\n",
              "</thead>\n",
              "<tbody>\n",
              "\t<tr><td>50.643</td><td>12350771</td><td>2144.115</td></tr>\n",
              "</tbody>\n",
              "</table>\n"
            ],
            "text/markdown": "\nA tibble: 1 × 3\n\n| meanLifeExp &lt;dbl&gt; | meanPop &lt;dbl&gt; | meanGdpPercap &lt;dbl&gt; |\n|---|---|---|\n| 50.643 | 12350771 | 2144.115 |\n\n",
            "text/latex": "A tibble: 1 × 3\n\\begin{tabular}{lll}\n meanLifeExp & meanPop & meanGdpPercap\\\\\n <dbl> & <dbl> & <dbl>\\\\\n\\hline\n\t 50.643 & 12350771 & 2144.115\\\\\n\\end{tabular}\n",
            "text/plain": [
              "  meanLifeExp meanPop  meanGdpPercap\n",
              "1 50.643      12350771 2144.115     "
            ]
          },
          "metadata": {}
        }
      ]
    },
    {
      "cell_type": "markdown",
      "source": [
        "## Ejercicio 1\n",
        "\n",
        "Como lo hemos discutido anteriormente, es común que los datos que analicemos sean recolectados de muchas maneras y sean guardados en archivos. Nuestra primera tarea en cualquier proyecto que implique analizar datos será cargar la base de datos.\n",
        "\n",
        "Para este ejercicio tenemos una base de datos que incluye todas las canciones que han estado en el Top 200 de las listas semanales (Global) de Spotify en 2020 y 2021. Esta base de datos es suministrada por Pillai (2021). La base de datos se encuentra en el archivo spotify_dataset.csv.\n",
        "\n",
        "La base cuenta con las siguientes 23 variables:\n",
        "\n",
        "- `Highest.Charting.Position`: La posición más alta en la que ha estado la canción en las listas semanales de Spotify Top 200 Global Charts en 2020 y 2021.\n",
        "\n",
        "- `Number.of.Times.Charted`: El número de veces que la canción ha estado en la lista de las 200 mejores canciones semanales de Spotify en 2020 y 2021.\n",
        "\n",
        "- `Week.of.Highest.Charting`: La semana en la que la canción tuvo la posición más alta en las listas globales semanales de las 200 mejores canciones de Spotify en 2020 y 2021.\n",
        "\n",
        "- `Song.Name`: El nombre de la canción que ha estado en las Top 200 Weekly Global Charts de Spotify en 2020 & 2021.\n",
        "\n",
        "- `Song.ID`: El ID de la canción proporcionado por Spotify (único para cada canción).\n",
        "\n",
        "- `Streams`: Número aproximado de streams que tiene la canción.\n",
        "\n",
        "- `Artist`: El artista o artistas principales que han participado en la elaboración de la canción.\n",
        "\n",
        "- `Artist.Followers`: El número de seguidores que tiene el artista principal en Spotify.\n",
        "\n",
        "- `Genre`: Los géneros a los que pertenece la canción.\n",
        "\n",
        "- `Release.Date`: La fecha inicial de lanzamiento de la canción.\n",
        "\n",
        "- `Weeks.Charted`: Las semanas que la canción ha estado en el Top 200 de las listas semanales de Spotify en 2020 y 2021.\n",
        "\n",
        "- `Popularity`: La popularidad de la canción. El valor estará entre 0 y 100, siendo 100 la más popular.\n",
        "\n",
        "- `Danceability`: La bailabilidad describe lo adecuado que es un tema para bailar basándose en una combinación de elementos musicales que incluyen el tempo, la estabilidad del ritmo, la fuerza del compás y la regularidad general. Un valor de 0,0 es el menos bailable y 1,0 es el más bailable.\n",
        "\n",
        "- `Acousticness`: Una medida de 0,0 a 1,0 de si la pista es acústica.\n",
        "\n",
        "- `Energy`: La energía es una medida de 0,0 a 1,0 y representa una medida perceptiva de intensidad y actividad. Normalmente, las pistas energéticas se sienten rápidas, fuertes y ruidosas.\n",
        "\n",
        "- `Liveness`: Detecta la presencia de público en la grabación. Los valores más altos de liveness representan una mayor probabilidad de que la pista haya sido interpretada en directo.\n",
        "\n",
        "- `Loudness`: La sonoridad general de una pista en decibelios (dB). Los valores de sonoridad se promedian en toda la pista. Los valores suelen oscilar entre -60 y 0 db.\n",
        "\n",
        "- `Speechiness`: La expresividad detecta la presencia de palabras habladas en una pista. Cuanto más exclusivamente hablada sea la grabación (por ejemplo, un programa de entrevistas, un audiolibro o una poesía), más se acercará a 1,0 el valor del atributo.\n",
        "\n",
        "- `Tempo`: El tempo global estimado de una pista en pulsaciones por minuto (BPM). En la terminología musical, el tempo es la velocidad o el ritmo de una pieza determinada y se deriva directamente de la duración media de los tiempos.\n",
        "\n",
        "- `Duration..ms.`: Duración de la canción en milisegundos.\n",
        "\n",
        "- `Valence`: Una medida de 0,0 a 1,0 que describe la positividad musical que transmite una pista. Las pistas con valencia alta suenan más positivas (por ejemplo, felices, alegres, eufóricas), mientras que las pistas con valencia baja suenan más negativas (por ejemplo, tristes, deprimidas, enfadadas).\n",
        "\n",
        "- `Chord`: El acorde principal de la canción instrumental."
      ],
      "metadata": {
        "id": "r0QIl2GQr4FX"
      }
    },
    {
      "cell_type": "markdown",
      "source": [
        "Crea el objeto spotify en el que cargarás la base de datos disponible en el archivo `spotify_dataset.csv`. Recuerda que en este caso los datos están separados por comas."
      ],
      "metadata": {
        "id": "FVagCgwUswls"
      }
    },
    {
      "cell_type": "code",
      "source": [
        "# Carga de bases de datos\n",
        "spotify <- read.csv(\"spotify_dataset.csv\", header = TRUE, sep = \",\")"
      ],
      "metadata": {
        "id": "vYBnZOWmtlWK"
      },
      "execution_count": 59,
      "outputs": []
    },
    {
      "cell_type": "markdown",
      "source": [
        "Ahora constata que el objeto spotify sea de clase data.frame."
      ],
      "metadata": {
        "id": "jiHRVyKQs2hz"
      }
    },
    {
      "cell_type": "code",
      "source": [
        "class(spotify)"
      ],
      "metadata": {
        "colab": {
          "base_uri": "https://localhost:8080/",
          "height": 34
        },
        "id": "V1KKXwKBtpZP",
        "outputId": "30ee7c38-de31-441f-eef9-28b7cb3ae996"
      },
      "execution_count": 60,
      "outputs": [
        {
          "output_type": "display_data",
          "data": {
            "text/html": [
              "'data.frame'"
            ],
            "text/markdown": "'data.frame'",
            "text/latex": "'data.frame'",
            "text/plain": [
              "[1] \"data.frame\""
            ]
          },
          "metadata": {}
        }
      ]
    },
    {
      "cell_type": "markdown",
      "source": [
        "Mira la clase de cada una de las variables que está en el objeto spotify. Adicionalmente, mira la descripción de las variables y determina que variable no tiene la clase correcta."
      ],
      "metadata": {
        "id": "eDrl4_rCs5fp"
      }
    },
    {
      "cell_type": "code",
      "source": [
        "str(spotify)"
      ],
      "metadata": {
        "colab": {
          "base_uri": "https://localhost:8080/"
        },
        "id": "jKon4XIyt2Yj",
        "outputId": "953176db-ee44-46c9-e378-577ea809cf32"
      },
      "execution_count": 61,
      "outputs": [
        {
          "output_type": "stream",
          "name": "stdout",
          "text": [
            "'data.frame':\t1556 obs. of  23 variables:\n",
            " $ Index                    : int  1 2 3 4 5 6 7 8 9 10 ...\n",
            " $ Highest.Charting.Position: int  1 2 1 3 5 1 3 2 3 8 ...\n",
            " $ Number.of.Times.Charted  : int  8 3 11 5 1 18 16 10 8 10 ...\n",
            " $ Week.of.Highest.Charting : chr  \"2021-07-23--2021-07-30\" \"2021-07-23--2021-07-30\" \"2021-06-25--2021-07-02\" \"2021-07-02--2021-07-09\" ...\n",
            " $ Song.Name                : chr  \"Beggin'\" \"STAY (with Justin Bieber)\" \"good 4 u\" \"Bad Habits\" ...\n",
            " $ Streams                  : chr  \"48,633,449\" \"47,248,719\" \"40,162,559\" \"37,799,456\" ...\n",
            " $ Artist                   : chr  \"Måneskin\" \"The Kid LAROI\" \"Olivia Rodrigo\" \"Ed Sheeran\" ...\n",
            " $ Artist.Followers         : int  3377762 2230022 6266514 83293380 5473565 5473565 8640063 6080597 36142273 3377762 ...\n",
            " $ Song.ID                  : chr  \"3Wrjm47oTz2sjIgck11l5e\" \"5HCyWlXZPP0y6Gqq8TgA20\" \"4ZtFanR9U6ndgddUvNcjcG\" \"6PQ88X9TkUIAUIZJHW2upE\" ...\n",
            " $ Genre                    : chr  \"['indie rock italiano', 'italian pop']\" \"['australian hip hop']\" \"['pop']\" \"['pop', 'uk pop']\" ...\n",
            " $ Release.Date             : chr  \"2017-12-08\" \"2021-07-09\" \"2021-05-21\" \"2021-06-25\" ...\n",
            " $ Weeks.Charted            : chr  \"2021-07-23--2021-07-30\\n2021-07-16--2021-07-23\\n2021-07-09--2021-07-16\\n2021-07-02--2021-07-09\\n2021-06-25--202\"| __truncated__ \"2021-07-23--2021-07-30\\n2021-07-16--2021-07-23\\n2021-07-09--2021-07-16\" \"2021-07-23--2021-07-30\\n2021-07-16--2021-07-23\\n2021-07-09--2021-07-16\\n2021-07-02--2021-07-09\\n2021-06-25--202\"| __truncated__ \"2021-07-23--2021-07-30\\n2021-07-16--2021-07-23\\n2021-07-09--2021-07-16\\n2021-07-02--2021-07-09\\n2021-06-25--2021-07-02\" ...\n",
            " $ Popularity               : int  100 99 99 98 96 97 94 95 96 95 ...\n",
            " $ Danceability             : num  0.714 0.591 0.563 0.808 0.736 0.61 0.762 0.78 0.644 0.75 ...\n",
            " $ Energy                   : num  0.8 0.764 0.664 0.897 0.704 0.508 0.701 0.718 0.648 0.608 ...\n",
            " $ Loudness                 : num  -4.81 -5.48 -5.04 -3.71 -7.41 ...\n",
            " $ Speechiness              : num  0.0504 0.0483 0.154 0.0348 0.0615 0.152 0.0286 0.0506 0.118 0.0387 ...\n",
            " $ Acousticness             : num  0.127 0.0383 0.335 0.0469 0.0203 0.297 0.235 0.31 0.276 0.00165 ...\n",
            " $ Liveness                 : num  0.359 0.103 0.0849 0.364 0.0501 0.384 0.123 0.0932 0.135 0.178 ...\n",
            " $ Tempo                    : num  134 170 167 126 150 ...\n",
            " $ Duration..ms.            : int  211560 141806 178147 231041 212000 137876 208867 199604 206710 173347 ...\n",
            " $ Valence                  : num  0.589 0.478 0.688 0.591 0.894 0.758 0.742 0.342 0.44 0.958 ...\n",
            " $ Chord                    : chr  \"B\" \"C#/Db\" \"A\" \"B\" ...\n"
          ]
        }
      ]
    },
    {
      "cell_type": "markdown",
      "source": [
        "Ahora debemos corregir la clase variable `Stream`. Esta variable tiene en el archivo original comas para separar los miles y los millones. Al momento de leer los datos, R creyó que se trata de unos caracteres. Para convertir esta variable a un entero, debemos remover las comas. Eso lo podemos hacer con la función `gesub()`. Esta función permite cambiar caracteres en una cadena de caracteres. El primer argumento corresponde a `pattern` que especifica los caracteres que se quieren remplazar que se expresan entre comillas (en este caso una coma: `“,”`). El segundo argumento, `replacement`, son los caracteres con los que se quieren remplazar los caracteres previamente especificados. En este caso no queremos remplazar las comas por ningún otro caracter, por tanto el segundo argumento será `replacement = ““`. El tercer argumento es el objeto sobre el cual se quiere aplicar este proceso de sustitución.\n",
        "\n",
        "Por tanto, podemos hacer el cambio de clase a entero de la siguiente manera."
      ],
      "metadata": {
        "id": "dPCmo54qs7ew"
      }
    },
    {
      "cell_type": "code",
      "source": [
        "spotify$Streams <- as.integer(gsub(\",\", \"\", spotify$Streams))\n",
        "\n",
        "# chequeo\n",
        "class(spotify$Streams)"
      ],
      "metadata": {
        "colab": {
          "base_uri": "https://localhost:8080/",
          "height": 34
        },
        "id": "77ZLxfUftRk0",
        "outputId": "fc810cec-33a2-4f32-d6d6-e7a71dc0f179"
      },
      "execution_count": 63,
      "outputs": [
        {
          "output_type": "display_data",
          "data": {
            "text/html": [
              "'integer'"
            ],
            "text/markdown": "'integer'",
            "text/latex": "'integer'",
            "text/plain": [
              "[1] \"integer\""
            ]
          },
          "metadata": {}
        }
      ]
    },
    {
      "cell_type": "markdown",
      "source": [
        "## Ejercicio 2\n",
        "\n",
        "Ahora carguemos una base de datos que incluye una lista completa de películas y series disponibles en varias plataformas de streaming. Esta base está en el archivo movies_shows.txt. La base de datos contiene las siguientes 9 variables:\n",
        "\n",
        "- `Title`: Nombre de la serie o película\n",
        "\n",
        "- `Year` : Año\n",
        "\n",
        "- `Age`: Clasificación por edades de las películas\n",
        "\n",
        "- `Rotten.Tomatoes`: Calificación de la serie o película en Rotten Tomatoes[https://www.rottentomatoes.com]. La calificación máxima es 100.\n",
        "\n",
        "- `Netflix` : Una variable cualitativa que representa la presencia o no de la serie o película en esta plataforma. Toma el valor de 1 si la serie o película está en Netflix y 0 en caso contrario\n",
        "\n",
        "- `Hulu`: Una variable cualitativa que representa la presencia o no de la serie o película en esta plataforma. Toma el valor de 1 si la serie o película está en Hulu y 0 en caso contrario\n",
        "\n",
        "- `Prime.Video`: Una variable cualitativa que representa la presencia o no de la serie o película en esta plataforma. Toma el valor de 1 si la serie o película está en Prime.Vide y 0 en caso contrario\n",
        "\n",
        "- `Disney.`: Una variable cualitativa que representa la presencia o no de la serie o película en esta plataforma. Toma el valor de 1 si la serie o película está en Disney+ y 0 en caso contrario\n",
        "\n",
        "- `Type`: Una variable cualitativa que representa si se trata de una serie o película. Toma el valor de 1 si se trata de una serie y 0 si es una película\n",
        "\n",
        "> Esta base de datos fue creada apartir de dos bases disponibles [aquí](https://www.kaggle.com/ruchi798/movies-on-netflix-prime-video-hulu-and-disney) y [aquí](https://www.kaggle.com/ruchi798/tv-shows-on-netflix-prime-video-hulu-and-disney).\n"
      ],
      "metadata": {
        "id": "_YyV4H8QuEF1"
      }
    },
    {
      "cell_type": "markdown",
      "source": [
        "Crea el objeto movies.shows en el que cargarás la base de datos disponible en el archivo movies_shows.txt. Recuerda que en este caso los datos están separados por comas."
      ],
      "metadata": {
        "id": "BbFpuTUtuWEg"
      }
    },
    {
      "cell_type": "code",
      "source": [
        "# Carga de bases de datos\n",
        "movies.shows <- read.table(\"movies_shows.txt\", header = TRUE, sep = \",\")"
      ],
      "metadata": {
        "id": "cVxVUNAkvhQx"
      },
      "execution_count": 64,
      "outputs": []
    },
    {
      "cell_type": "markdown",
      "source": [
        "Ahora constata que el objeto movies.shows sea de clase data.frame."
      ],
      "metadata": {
        "id": "xjvrFKVZuY8z"
      }
    },
    {
      "cell_type": "code",
      "source": [
        "class(movies.shows)"
      ],
      "metadata": {
        "colab": {
          "base_uri": "https://localhost:8080/",
          "height": 34
        },
        "id": "MZe4zMsEvivU",
        "outputId": "c8e340fa-3c0f-4f8b-b5df-ab95ae3a46e9"
      },
      "execution_count": 65,
      "outputs": [
        {
          "output_type": "display_data",
          "data": {
            "text/html": [
              "'data.frame'"
            ],
            "text/markdown": "'data.frame'",
            "text/latex": "'data.frame'",
            "text/plain": [
              "[1] \"data.frame\""
            ]
          },
          "metadata": {}
        }
      ]
    },
    {
      "cell_type": "markdown",
      "source": [
        "Mira la clase de cada una de las variables que está en el objeto movies.shows. Adicionalmente, mira la descripción de las variables y determina que variable no tiene la clase correcta."
      ],
      "metadata": {
        "id": "hRo-XZgnuaPd"
      }
    },
    {
      "cell_type": "code",
      "source": [
        "str(movies.shows)"
      ],
      "metadata": {
        "colab": {
          "base_uri": "https://localhost:8080/"
        },
        "id": "P015i8XQvlRo",
        "outputId": "82abf251-6dc7-4e29-b900-894cf39defc9"
      },
      "execution_count": 66,
      "outputs": [
        {
          "output_type": "stream",
          "name": "stdout",
          "text": [
            "'data.frame':\t14883 obs. of  9 variables:\n",
            " $ Title          : chr  \"The Irishman\" \"Dangal\" \"David Attenborough: A Life on Our Planet\" \"Lagaan: Once Upon a Time in India\" ...\n",
            " $ Year           : int  2019 2016 2020 2001 2018 2018 2020 2017 2018 2020 ...\n",
            " $ Age            : chr  \"18+\" \"7+\" \"7+\" \"7+\" ...\n",
            " $ Rotten.Tomatoes: chr  \"98/100\" \"97/100\" \"95/100\" \"94/100\" ...\n",
            " $ Netflix        : int  1 1 1 1 1 1 1 1 1 1 ...\n",
            " $ Hulu           : int  0 0 0 0 0 0 0 0 0 0 ...\n",
            " $ Prime.Video    : int  0 0 0 0 0 0 0 0 0 0 ...\n",
            " $ Disney.        : int  0 0 0 0 0 0 0 0 0 0 ...\n",
            " $ Type           : int  0 0 0 0 0 0 0 0 0 0 ...\n"
          ]
        }
      ]
    },
    {
      "cell_type": "markdown",
      "source": [
        "Porque las columnas `Netflix`, `Hulu`, `Prime.Video` no son una sola columna `platform`? Porque la columna `Rotten.Tomatoes` no es de tipo `numeric`?"
      ],
      "metadata": {
        "id": "Pvp9MlTovu_U"
      }
    },
    {
      "cell_type": "markdown",
      "source": [
        "Finalmente, corrija la clase de las variables que detecto que no estaban bien."
      ],
      "metadata": {
        "id": "6cWZrjKeubdq"
      }
    },
    {
      "cell_type": "code",
      "source": [
        "movies.shows$Netflix <- as.factor(movies.shows$Netflix)\n",
        "movies.shows$Hulu <- as.factor(movies.shows$Hulu)\n",
        "movies.shows$Prime.Video <- as.factor(movies.shows$Prime.Video)\n",
        "movies.shows$Disney. <- as.factor(movies.shows$Disney.)\n",
        "movies.shows$Type <- as.factor(movies.shows$Type)\n",
        "\n",
        "movies.shows$Rotten.Tomatoes <- as.numeric(gsub(\"/100\", \"\", movies.shows$Rotten.Tomatoes))\n",
        "\n",
        "str(movies.shows)"
      ],
      "metadata": {
        "colab": {
          "base_uri": "https://localhost:8080/"
        },
        "id": "4Qu3NVDcwTEY",
        "outputId": "d756978f-1061-46e6-8549-615674c9e598"
      },
      "execution_count": 67,
      "outputs": [
        {
          "output_type": "stream",
          "name": "stdout",
          "text": [
            "'data.frame':\t14883 obs. of  9 variables:\n",
            " $ Title          : chr  \"The Irishman\" \"Dangal\" \"David Attenborough: A Life on Our Planet\" \"Lagaan: Once Upon a Time in India\" ...\n",
            " $ Year           : int  2019 2016 2020 2001 2018 2018 2020 2017 2018 2020 ...\n",
            " $ Age            : chr  \"18+\" \"7+\" \"7+\" \"7+\" ...\n",
            " $ Rotten.Tomatoes: num  98 97 95 94 94 94 93 92 92 92 ...\n",
            " $ Netflix        : Factor w/ 2 levels \"0\",\"1\": 2 2 2 2 2 2 2 2 2 2 ...\n",
            " $ Hulu           : Factor w/ 2 levels \"0\",\"1\": 1 1 1 1 1 1 1 1 1 1 ...\n",
            " $ Prime.Video    : Factor w/ 2 levels \"0\",\"1\": 1 1 1 1 1 1 1 1 1 1 ...\n",
            " $ Disney.        : Factor w/ 2 levels \"0\",\"1\": 1 1 1 1 1 1 1 1 1 1 ...\n",
            " $ Type           : Factor w/ 2 levels \"0\",\"1\": 1 1 1 1 1 1 1 1 1 1 ...\n"
          ]
        }
      ]
    },
    {
      "cell_type": "markdown",
      "source": [
        "## Ejercicio 3\n",
        "\n",
        "a. Guarda tu script en un archivo con el nombre `Script_ejer_cap_8.R`.\n",
        "\n",
        "b. Guarda tu workspace en un archivo con el nombre Ws_ejer_cap_8.RData.\n"
      ],
      "metadata": {
        "id": "pPLt-ODMurDG"
      }
    },
    {
      "cell_type": "code",
      "source": [
        "save.image(file = \"Ws_ejer_cap_8.RData\")"
      ],
      "metadata": {
        "id": "_ZcmD5Eeu9YW"
      },
      "execution_count": null,
      "outputs": []
    },
    {
      "cell_type": "markdown",
      "source": [
        "## Actividades"
      ],
      "metadata": {
        "id": "VaKomYezxgLh"
      }
    },
    {
      "cell_type": "markdown",
      "source": [
        "A continuación encontrarás un link para descargar un archivo en formato `.csv` que emplea comas como delimitador de los datos.\n",
        "\n",
        "archivo_datos.csv\n",
        "\n",
        "Carga el archivo en R.\n",
        "\n",
        "¿Cuántas observaciones tiene esta base de datos?"
      ],
      "metadata": {
        "id": "A5a66VlxxiIB"
      }
    },
    {
      "cell_type": "code",
      "source": [
        "datos <- read.csv(\"archivo_datos.csv\", header = TRUE, sep = \",\")\n",
        "\n",
        "# observaciones - variables\n",
        "# filas - columnas\n",
        "dim(datos)"
      ],
      "metadata": {
        "colab": {
          "base_uri": "https://localhost:8080/",
          "height": 34
        },
        "id": "4_3hcF4Zxof4",
        "outputId": "0505f289-fd8d-4569-a161-b33778b9f966"
      },
      "execution_count": 75,
      "outputs": [
        {
          "output_type": "display_data",
          "data": {
            "text/html": [
              "<style>\n",
              ".list-inline {list-style: none; margin:0; padding: 0}\n",
              ".list-inline>li {display: inline-block}\n",
              ".list-inline>li:not(:last-child)::after {content: \"\\00b7\"; padding: 0 .5ex}\n",
              "</style>\n",
              "<ol class=list-inline><li>1556</li><li>23</li></ol>\n"
            ],
            "text/markdown": "1. 1556\n2. 23\n\n\n",
            "text/latex": "\\begin{enumerate*}\n\\item 1556\n\\item 23\n\\end{enumerate*}\n",
            "text/plain": [
              "[1] 1556   23"
            ]
          },
          "metadata": {}
        }
      ]
    },
    {
      "cell_type": "markdown",
      "source": [
        "Carga la base de datos que se llama gapminder del paquete del mismo nombre.\n",
        "\n",
        "¿Cuántas variables tiene esta base de datos?"
      ],
      "metadata": {
        "id": "oY_mc99A1Cqz"
      }
    },
    {
      "cell_type": "code",
      "source": [
        "dim(gapminder)"
      ],
      "metadata": {
        "colab": {
          "base_uri": "https://localhost:8080/",
          "height": 34
        },
        "id": "k938ICkByZGJ",
        "outputId": "4980e0c1-b345-40bb-f89f-c4460d1c767f"
      },
      "execution_count": 77,
      "outputs": [
        {
          "output_type": "display_data",
          "data": {
            "text/html": [
              "<style>\n",
              ".list-inline {list-style: none; margin:0; padding: 0}\n",
              ".list-inline>li {display: inline-block}\n",
              ".list-inline>li:not(:last-child)::after {content: \"\\00b7\"; padding: 0 .5ex}\n",
              "</style>\n",
              "<ol class=list-inline><li>1704</li><li>6</li></ol>\n"
            ],
            "text/markdown": "1. 1704\n2. 6\n\n\n",
            "text/latex": "\\begin{enumerate*}\n\\item 1704\n\\item 6\n\\end{enumerate*}\n",
            "text/plain": [
              "[1] 1704    6"
            ]
          },
          "metadata": {}
        }
      ]
    },
    {
      "cell_type": "markdown",
      "source": [
        "Lee el Capítulo 9 del libro Empezando a usaR: Una guía paso a paso.  \n",
        "\n",
        "\n",
        "Una vez termines de leer el capítulo 9, regresa a esta página para hacer unas actividades de chequeo. No continúes si aún no has leído el capítulo 9 del libro."
      ],
      "metadata": {
        "id": "qOExAdti1kPH"
      }
    },
    {
      "cell_type": "markdown",
      "source": [
        "1. Se le entiende por información cuando encontramos `relaciones` en los datos"
      ],
      "metadata": {
        "id": "G9SV3qkb20MH"
      }
    },
    {
      "cell_type": "markdown",
      "source": [
        "2. Empareja cada una de las tareas que podemos hacer con los datos y su respectiva descripción.\n",
        "\n",
        "- Resumir: Simplificar la representación de los datos para generar información\n",
        "\n",
        "- Visualización: Facilita la comprensión y el descubrimiento de los datos por medio de gráficos\n",
        "\n",
        "- Clasificación: Predecir la categoría de un individuo\n",
        "\n",
        "- Clustering: Encontrar grupos de elementos similares\n",
        "\n",
        "- Detección de Excepciones: Encontrar individuos con características o comportamiento diferentes"
      ],
      "metadata": {
        "id": "pBzL2Rk728A1"
      }
    },
    {
      "cell_type": "markdown",
      "source": [
        "## Evaluación"
      ],
      "metadata": {
        "id": "cWHg31155eR1"
      }
    },
    {
      "cell_type": "markdown",
      "source": [
        "2. Para esta pregunta necesitaras emplear R. Carga el paquete `MASS`. Si no lo tienes ya instalado tendrás que instalarlo. Ahora, carga el `data.frame` de nombre `anorexia` que se encuentra en dicho paquete. ¿Cuál es la clase de la variable `Treat`?"
      ],
      "metadata": {
        "id": "mN3_-CM_5hXy"
      }
    },
    {
      "cell_type": "code",
      "source": [
        "install.packages(\"MASS\")"
      ],
      "metadata": {
        "colab": {
          "base_uri": "https://localhost:8080/"
        },
        "id": "D2IIVySY5_nw",
        "outputId": "79e4e11f-e4c0-42f5-b889-a6f269eb7517"
      },
      "execution_count": 84,
      "outputs": [
        {
          "output_type": "stream",
          "name": "stderr",
          "text": [
            "Installing package into ‘/usr/local/lib/R/site-library’\n",
            "(as ‘lib’ is unspecified)\n",
            "\n"
          ]
        }
      ]
    },
    {
      "cell_type": "code",
      "source": [
        "library(MASS)"
      ],
      "metadata": {
        "id": "3UJmc7RX7hNY"
      },
      "execution_count": 86,
      "outputs": []
    },
    {
      "cell_type": "code",
      "source": [
        "anorexia <- as.data.frame(anorexia)\n",
        "\n",
        "class(anorexia$Treat)"
      ],
      "metadata": {
        "colab": {
          "base_uri": "https://localhost:8080/",
          "height": 34
        },
        "id": "LijV1Wnn5mj6",
        "outputId": "c124b790-f142-44b4-de6d-db9c061889ba"
      },
      "execution_count": 87,
      "outputs": [
        {
          "output_type": "display_data",
          "data": {
            "text/html": [
              "'NULL'"
            ],
            "text/markdown": "'NULL'",
            "text/latex": "'NULL'",
            "text/plain": [
              "[1] \"NULL\""
            ]
          },
          "metadata": {}
        }
      ]
    },
    {
      "cell_type": "code",
      "source": [
        "str(anorexia)"
      ],
      "metadata": {
        "colab": {
          "base_uri": "https://localhost:8080/"
        },
        "id": "GfgdCLuo6BaP",
        "outputId": "ce39df30-4852-476f-e7b2-dfc0fe7c2271"
      },
      "execution_count": 88,
      "outputs": [
        {
          "output_type": "stream",
          "name": "stdout",
          "text": [
            "'data.frame':\t1 obs. of  1 variable:\n",
            " $ anorexia: chr \"anorexia\"\n"
          ]
        }
      ]
    },
    {
      "cell_type": "markdown",
      "source": [
        "Para esta pregunta necesitaras emplear R. Carga el paquete `MASS`. Si no lo tienes ya instalado tendrás que instalarlo. Ahora, carga el `data.frame` de nombre `Boston` que se encuentra en dicho paquete. ¿Cuántas variables tiene ese `data.frame`?"
      ],
      "metadata": {
        "id": "LLlarV6A6WAk"
      }
    },
    {
      "cell_type": "code",
      "source": [
        "boston <- as.data.frame(Boston)\n",
        "dim(boston)\n"
      ],
      "metadata": {
        "colab": {
          "base_uri": "https://localhost:8080/",
          "height": 34
        },
        "id": "Zx_T43d97JS3",
        "outputId": "e7d40cab-23e4-4db5-c103-164a90aa9b5f"
      },
      "execution_count": 89,
      "outputs": [
        {
          "output_type": "display_data",
          "data": {
            "text/html": [
              "<style>\n",
              ".list-inline {list-style: none; margin:0; padding: 0}\n",
              ".list-inline>li {display: inline-block}\n",
              ".list-inline>li:not(:last-child)::after {content: \"\\00b7\"; padding: 0 .5ex}\n",
              "</style>\n",
              "<ol class=list-inline><li>506</li><li>14</li></ol>\n"
            ],
            "text/markdown": "1. 506\n2. 14\n\n\n",
            "text/latex": "\\begin{enumerate*}\n\\item 506\n\\item 14\n\\end{enumerate*}\n",
            "text/plain": [
              "[1] 506  14"
            ]
          },
          "metadata": {}
        }
      ]
    },
    {
      "cell_type": "markdown",
      "source": [
        "4. Hemos cargado archivos que terminan en .txt. En este contexto txt significa `archivo de texto`"
      ],
      "metadata": {
        "id": "Y9lh_xmp7p30"
      }
    },
    {
      "cell_type": "markdown",
      "source": [
        "5. Para esta pregunta necesitaras emplear R. Carga el archvio de nombre `archivo6.csv` ¿Cuántas observaciones tiene ese `data.frame`?"
      ],
      "metadata": {
        "id": "WcuqKhO672H-"
      }
    },
    {
      "cell_type": "code",
      "source": [
        "datos6 <- read.csv(\"archivo_datos.csv\", header = TRUE, sep = \",\")\n",
        "\n",
        "dim(datos6)"
      ],
      "metadata": {
        "colab": {
          "base_uri": "https://localhost:8080/",
          "height": 34
        },
        "id": "hEL6uW8e75fg",
        "outputId": "632e589b-1319-4c82-e30d-220beec4a37e"
      },
      "execution_count": 90,
      "outputs": [
        {
          "output_type": "display_data",
          "data": {
            "text/html": [
              "<style>\n",
              ".list-inline {list-style: none; margin:0; padding: 0}\n",
              ".list-inline>li {display: inline-block}\n",
              ".list-inline>li:not(:last-child)::after {content: \"\\00b7\"; padding: 0 .5ex}\n",
              "</style>\n",
              "<ol class=list-inline><li>1556</li><li>23</li></ol>\n"
            ],
            "text/markdown": "1. 1556\n2. 23\n\n\n",
            "text/latex": "\\begin{enumerate*}\n\\item 1556\n\\item 23\n\\end{enumerate*}\n",
            "text/plain": [
              "[1] 1556   23"
            ]
          },
          "metadata": {}
        }
      ]
    },
    {
      "cell_type": "markdown",
      "source": [
        "# Referencias\n",
        "\n",
        "Sashank Pillai, “Spotify Top 200 Charts (2020-2021).” Kaggle, 2021, doi: 10.34740/KAGGLE/DSV/2529719."
      ],
      "metadata": {
        "id": "Gj-un29Tu9uJ"
      }
    }
  ]
}