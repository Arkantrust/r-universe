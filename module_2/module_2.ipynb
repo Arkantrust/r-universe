{
  "cells": [
    {
      "cell_type": "markdown",
      "metadata": {
        "id": "view-in-github",
        "colab_type": "text"
      },
      "source": [
        "<a href=\"https://colab.research.google.com/github/Arkantrust/r-universe/blob/main/module_2/module_2.ipynb\" target=\"_parent\"><img src=\"https://colab.research.google.com/assets/colab-badge.svg\" alt=\"Open In Colab\"/></a>"
      ]
    },
    {
      "cell_type": "markdown",
      "metadata": {
        "id": "YX1t3Gyw3spj"
      },
      "source": [
        "# Objetos y Operaciones\n",
        "\n",
        "## David Dulce"
      ]
    },
    {
      "cell_type": "markdown",
      "source": [
        "# Primeras Operaciones\n",
        "\n",
        "El segundo módulo estará dedicada a dar nuestros primeros pasos en R.\n",
        "\n",
        "Al finalizar este módulo estarás en capacidad de:\n",
        "\n",
        "    Realizar operaciones aritméticas básicas, de relación y lógicas en R\n",
        "    Explicar qué es un objeto en R y cuáles son sus principales clases\n",
        "    Explicar en tus propias palabras qué es el directorio de trabajo\n",
        "\n",
        "\n",
        "Ya tenemos todo listo para empezar a usar R. Tu primera actividad de este módulo será leer el Capítulo 4 del libro [\"Empezando a usaR: Una guía paso a paso\"](https://www.icesi.edu.co/editorial/empezando-usar-web/)"
      ],
      "metadata": {
        "id": "cfiewXzg0tA_"
      }
    },
    {
      "cell_type": "markdown",
      "metadata": {
        "id": "2OWn4kKf79qw"
      },
      "source": [
        "## Ejercicio 1"
      ]
    },
    {
      "cell_type": "markdown",
      "metadata": {
        "id": "9D1CJwQs8FjE"
      },
      "source": [
        "Multiplica 4 por 7."
      ]
    },
    {
      "cell_type": "code",
      "execution_count": 1,
      "metadata": {
        "colab": {
          "base_uri": "https://localhost:8080/",
          "height": 34
        },
        "id": "VHAu7APi799b",
        "outputId": "a1b0bff9-350a-445e-b662-f47c09277827",
        "vscode": {
          "languageId": "r"
        }
      },
      "outputs": [
        {
          "output_type": "display_data",
          "data": {
            "text/html": [
              "28"
            ],
            "text/markdown": "28",
            "text/latex": "28",
            "text/plain": [
              "[1] 28"
            ]
          },
          "metadata": {}
        }
      ],
      "source": [
        "4 * 7"
      ]
    },
    {
      "cell_type": "markdown",
      "metadata": {
        "id": "lOWV0eM-8Ihf"
      },
      "source": [
        "Eleva 78 a la potencia de 3."
      ]
    },
    {
      "cell_type": "code",
      "execution_count": 2,
      "metadata": {
        "colab": {
          "base_uri": "https://localhost:8080/",
          "height": 34
        },
        "id": "YMsPvowW8Isu",
        "outputId": "38162eef-c13c-478e-8434-26a9125a1b25",
        "vscode": {
          "languageId": "r"
        }
      },
      "outputs": [
        {
          "output_type": "display_data",
          "data": {
            "text/html": [
              "474552"
            ],
            "text/markdown": "474552",
            "text/latex": "474552",
            "text/plain": [
              "[1] 474552"
            ]
          },
          "metadata": {}
        }
      ],
      "source": [
        "78^3"
      ]
    },
    {
      "cell_type": "markdown",
      "metadata": {
        "id": "Sg-7vA4y8I1T"
      },
      "source": [
        "En una sola línea de código, resta 2,5 a 10 y luego eleva la respuesta a la potencia de 1.3 y a toda esa cantidad súmale 1.789."
      ]
    },
    {
      "cell_type": "code",
      "execution_count": 3,
      "metadata": {
        "colab": {
          "base_uri": "https://localhost:8080/",
          "height": 34
        },
        "id": "JOix3PZ-8JHf",
        "outputId": "0e097408-70e9-496c-c664-58d5251db201",
        "vscode": {
          "languageId": "r"
        }
      },
      "outputs": [
        {
          "output_type": "display_data",
          "data": {
            "text/html": [
              "15.5161267067718"
            ],
            "text/markdown": "15.5161267067718",
            "text/latex": "15.5161267067718",
            "text/plain": [
              "[1] 15.51613"
            ]
          },
          "metadata": {}
        }
      ],
      "source": [
        "(10 - 2.5)^1.3 + 1.789"
      ]
    },
    {
      "cell_type": "markdown",
      "metadata": {
        "id": "CWcAPDD08JVp"
      },
      "source": [
        "Divide 5 entre 2,5 y luego divide la respuesta entre 4 (todo en una sola linea de código)."
      ]
    },
    {
      "cell_type": "code",
      "execution_count": 4,
      "metadata": {
        "colab": {
          "base_uri": "https://localhost:8080/",
          "height": 34
        },
        "id": "aSqNU0I88Jhm",
        "outputId": "4a0b10d9-67d1-4001-b1e6-b81ca631a2f6",
        "vscode": {
          "languageId": "r"
        }
      },
      "outputs": [
        {
          "output_type": "display_data",
          "data": {
            "text/html": [
              "0.5"
            ],
            "text/markdown": "0.5",
            "text/latex": "0.5",
            "text/plain": [
              "[1] 0.5"
            ]
          },
          "metadata": {}
        }
      ],
      "source": [
        "( 5 / 2.5 ) / 4"
      ]
    },
    {
      "cell_type": "markdown",
      "metadata": {
        "id": "3EUdznxU8aL4"
      },
      "source": [
        "## Ejercicio 2"
      ]
    },
    {
      "cell_type": "markdown",
      "metadata": {
        "id": "hufJpMzr8mAj"
      },
      "source": [
        "Crea un objeto llamado obj1 en el que asignes el número 15."
      ]
    },
    {
      "cell_type": "code",
      "execution_count": 5,
      "metadata": {
        "colab": {
          "base_uri": "https://localhost:8080/",
          "height": 34
        },
        "id": "5XkXLqFg8mKj",
        "outputId": "bf0b840a-0ee4-464f-b62f-08e6263badb4",
        "vscode": {
          "languageId": "r"
        }
      },
      "outputs": [
        {
          "output_type": "display_data",
          "data": {
            "text/html": [
              "15"
            ],
            "text/markdown": "15",
            "text/latex": "15",
            "text/plain": [
              "[1] 15"
            ]
          },
          "metadata": {}
        }
      ],
      "source": [
        "obj1 <- 15\n",
        "obj1"
      ]
    },
    {
      "cell_type": "markdown",
      "metadata": {
        "id": "H87x0ibt8mXw"
      },
      "source": [
        "Crea un objeto llamado obj2 con el resultado de la suma de 100 + 25."
      ]
    },
    {
      "cell_type": "code",
      "execution_count": 6,
      "metadata": {
        "colab": {
          "base_uri": "https://localhost:8080/",
          "height": 34
        },
        "id": "hAk6yx-w8mhv",
        "outputId": "b433cd0e-d6d8-4ace-bb9b-dbbd049308c8",
        "vscode": {
          "languageId": "r"
        }
      },
      "outputs": [
        {
          "output_type": "display_data",
          "data": {
            "text/html": [
              "125"
            ],
            "text/markdown": "125",
            "text/latex": "125",
            "text/plain": [
              "[1] 125"
            ]
          },
          "metadata": {}
        }
      ],
      "source": [
        "obj2 <- 100 + 25\n",
        "obj2"
      ]
    },
    {
      "cell_type": "markdown",
      "metadata": {
        "id": "AXEmGZ2f8m1q"
      },
      "source": [
        "Multiplica los objetos obj1 y obj2 y guarda la respuesta en el objeto obj3."
      ]
    },
    {
      "cell_type": "code",
      "execution_count": 7,
      "metadata": {
        "colab": {
          "base_uri": "https://localhost:8080/",
          "height": 34
        },
        "id": "GxL-ts4x8nDt",
        "outputId": "673200b9-9617-4df3-f233-86f3c6019577",
        "vscode": {
          "languageId": "r"
        }
      },
      "outputs": [
        {
          "output_type": "display_data",
          "data": {
            "text/html": [
              "1875"
            ],
            "text/markdown": "1875",
            "text/latex": "1875",
            "text/plain": [
              "[1] 1875"
            ]
          },
          "metadata": {}
        }
      ],
      "source": [
        "obj3 <- obj1 * obj2\n",
        "obj3"
      ]
    },
    {
      "cell_type": "markdown",
      "metadata": {
        "id": "iFRcufa_8nPu"
      },
      "source": [
        "Resta 1 a obj3 y calcula la raíz cuadrada de ese resultado. Guarda esto como un objeto llamado obj4."
      ]
    },
    {
      "cell_type": "code",
      "execution_count": 8,
      "metadata": {
        "colab": {
          "base_uri": "https://localhost:8080/",
          "height": 34
        },
        "id": "paOPwD0n8v5g",
        "outputId": "1f0daec4-837b-446a-f830-6cce99ee8937",
        "vscode": {
          "languageId": "r"
        }
      },
      "outputs": [
        {
          "output_type": "display_data",
          "data": {
            "text/html": [
              "43.2897216438267"
            ],
            "text/markdown": "43.2897216438267",
            "text/latex": "43.2897216438267",
            "text/plain": [
              "[1] 43.28972"
            ]
          },
          "metadata": {}
        }
      ],
      "source": [
        "obj4 <- sqrt(obj3 - 1)\n",
        "obj4"
      ]
    },
    {
      "cell_type": "markdown",
      "metadata": {
        "id": "8V1MOEMa8wNC"
      },
      "source": [
        "Muestra el obj4 en la consola."
      ]
    },
    {
      "cell_type": "code",
      "execution_count": 9,
      "metadata": {
        "colab": {
          "base_uri": "https://localhost:8080/"
        },
        "id": "sLGdOny68nay",
        "outputId": "ee579944-1595-445e-f4c0-fab7dc7aec70",
        "vscode": {
          "languageId": "r"
        }
      },
      "outputs": [
        {
          "output_type": "stream",
          "name": "stdout",
          "text": [
            "[1] 43.28972\n"
          ]
        }
      ],
      "source": [
        "print(obj4)"
      ]
    },
    {
      "cell_type": "markdown",
      "metadata": {
        "id": "yH5btViO-cDM"
      },
      "source": [
        "## Ejercicio 3"
      ]
    },
    {
      "cell_type": "markdown",
      "metadata": {
        "id": "pWaHVI-r-fW9"
      },
      "source": [
        "Un concesionario de carros está estudiando cuánto tiempo le toma a sus clientes comprar un nuevo carro (contados a partir de la última compra en le concesionario del carro anterior) se recogen los datos que se presentan a continuación. Tiempo para la compra del siguiente carro en el concesionario (en meses)\n",
        "\n",
        "\n",
        "| Cliente | Tiempo en meses |\n",
        "| ------ | ---- |\n",
        "| 1 |\t29 |\n",
        "| 2 |\t63 |\n",
        "| 3 |\t7 |\n",
        "| 4 |\t23 |\n",
        "| 5 |\t84 |\n",
        "| 6 |\t10 |\n",
        "| 7 |\t9 |\n",
        "\n",
        "Crea un objeto con los meses y encuentra el tiempo a comprar el siguiente carro en años. Para esto divide la duración de todos los clientes por 12."
      ]
    },
    {
      "cell_type": "code",
      "execution_count": 35,
      "metadata": {
        "colab": {
          "base_uri": "https://localhost:8080/",
          "height": 34
        },
        "id": "JWfOX3T7-_3y",
        "outputId": "ae593f3f-ce36-48d8-aaaf-aac65f3a5ad1",
        "vscode": {
          "languageId": "r"
        }
      },
      "outputs": [
        {
          "output_type": "display_data",
          "data": {
            "text/html": [
              "<style>\n",
              ".list-inline {list-style: none; margin:0; padding: 0}\n",
              ".list-inline>li {display: inline-block}\n",
              ".list-inline>li:not(:last-child)::after {content: \"\\00b7\"; padding: 0 .5ex}\n",
              "</style>\n",
              "<ol class=list-inline><li>29</li><li>63</li><li>7</li><li>23</li><li>84</li><li>10</li><li>9</li></ol>\n"
            ],
            "text/markdown": "1. 29\n2. 63\n3. 7\n4. 23\n5. 84\n6. 10\n7. 9\n\n\n",
            "text/latex": "\\begin{enumerate*}\n\\item 29\n\\item 63\n\\item 7\n\\item 23\n\\item 84\n\\item 10\n\\item 9\n\\end{enumerate*}\n",
            "text/plain": [
              "[1] 29 63  7 23 84 10  9"
            ]
          },
          "metadata": {}
        }
      ],
      "source": [
        "time.months <- c(29, 63, 7, 23, 84, 10, 9)\n",
        "time.months"
      ]
    },
    {
      "cell_type": "markdown",
      "metadata": {
        "id": "1tSH_T36_noa"
      },
      "source": [
        "Converting to years"
      ]
    },
    {
      "cell_type": "code",
      "execution_count": 36,
      "metadata": {
        "colab": {
          "base_uri": "https://localhost:8080/",
          "height": 34
        },
        "id": "DSSEwwfK_oEu",
        "outputId": "2892fd40-6306-4058-d7ca-19d586be4ccf",
        "vscode": {
          "languageId": "r"
        }
      },
      "outputs": [
        {
          "output_type": "display_data",
          "data": {
            "text/html": [
              "<style>\n",
              ".list-inline {list-style: none; margin:0; padding: 0}\n",
              ".list-inline>li {display: inline-block}\n",
              ".list-inline>li:not(:last-child)::after {content: \"\\00b7\"; padding: 0 .5ex}\n",
              "</style>\n",
              "<ol class=list-inline><li>2.41666666666667</li><li>5.25</li><li>0.583333333333333</li><li>1.91666666666667</li><li>7</li><li>0.833333333333333</li><li>0.75</li></ol>\n"
            ],
            "text/markdown": "1. 2.41666666666667\n2. 5.25\n3. 0.583333333333333\n4. 1.91666666666667\n5. 7\n6. 0.833333333333333\n7. 0.75\n\n\n",
            "text/latex": "\\begin{enumerate*}\n\\item 2.41666666666667\n\\item 5.25\n\\item 0.583333333333333\n\\item 1.91666666666667\n\\item 7\n\\item 0.833333333333333\n\\item 0.75\n\\end{enumerate*}\n",
            "text/plain": [
              "[1] 2.4166667 5.2500000 0.5833333 1.9166667 7.0000000 0.8333333 0.7500000"
            ]
          },
          "metadata": {}
        }
      ],
      "source": [
        "time.years <- time.months /12\n",
        "time.years"
      ]
    },
    {
      "cell_type": "markdown",
      "metadata": {
        "id": "Qalwy9uK_CaS"
      },
      "source": [
        "## Ejercicio 4\n",
        "\n",
        "1. Guarda tu script en un archivo con el nombre `Script_ejer_cap_4.R`.\n",
        "\n",
        "2. Guarda tu workspace en un archivo con el nombre `Ws_ejer_cap_4.RData`."
      ]
    },
    {
      "cell_type": "code",
      "execution_count": 10,
      "metadata": {
        "id": "4fYtoNSk_Ks4",
        "vscode": {
          "languageId": "r"
        }
      },
      "outputs": [],
      "source": [
        "# 1 can only be done in desktop\n",
        "\n",
        "save.image(file = \"Ws_ejer_cap_4.RData\")"
      ]
    },
    {
      "cell_type": "markdown",
      "source": [
        "## Preguntas 1\n",
        "\n",
        "- Carga el workspace que creaste en el ejercicio (recuerda que lo llamaste `Ws_ejer_cap_4.RData`). En la sección 5.1 del libro Empezando a usaR: Una guía paso a paso puedes ver como cargar el workspace.\n",
        "\n",
        "Ahora eleva al cubo (a la 3) el objeto con nombre obj4.\n",
        "\n",
        "El resultado es:"
      ],
      "metadata": {
        "id": "9Czrf_Qj1s9p"
      }
    },
    {
      "cell_type": "code",
      "source": [
        "load(file = \"Ws_ejer_cap_4.RData\")\n",
        "objects()"
      ],
      "metadata": {
        "id": "hHc0Ittx11W1",
        "outputId": "c9fcb811-6bdf-43b5-c885-367bf88ac559",
        "colab": {
          "base_uri": "https://localhost:8080/",
          "height": 34
        }
      },
      "execution_count": 12,
      "outputs": [
        {
          "output_type": "display_data",
          "data": {
            "text/html": [
              "<style>\n",
              ".list-inline {list-style: none; margin:0; padding: 0}\n",
              ".list-inline>li {display: inline-block}\n",
              ".list-inline>li:not(:last-child)::after {content: \"\\00b7\"; padding: 0 .5ex}\n",
              "</style>\n",
              "<ol class=list-inline><li>'obj1'</li><li>'obj2'</li><li>'obj3'</li><li>'obj4'</li></ol>\n"
            ],
            "text/markdown": "1. 'obj1'\n2. 'obj2'\n3. 'obj3'\n4. 'obj4'\n\n\n",
            "text/latex": "\\begin{enumerate*}\n\\item 'obj1'\n\\item 'obj2'\n\\item 'obj3'\n\\item 'obj4'\n\\end{enumerate*}\n",
            "text/plain": [
              "[1] \"obj1\" \"obj2\" \"obj3\" \"obj4\""
            ]
          },
          "metadata": {}
        }
      ]
    },
    {
      "cell_type": "code",
      "source": [
        "obj4^3 # mal"
      ],
      "metadata": {
        "id": "AULTq2xw2nLg",
        "outputId": "ad0359fd-56c0-4a33-8579-1a7ac95efaa7",
        "colab": {
          "base_uri": "https://localhost:8080/",
          "height": 34
        }
      },
      "execution_count": 13,
      "outputs": [
        {
          "output_type": "display_data",
          "data": {
            "text/html": [
              "81124.9383605313"
            ],
            "text/markdown": "81124.9383605313",
            "text/latex": "81124.9383605313",
            "text/plain": [
              "[1] 81124.94"
            ]
          },
          "metadata": {}
        }
      ]
    },
    {
      "cell_type": "code",
      "source": [
        "43.2897216438267^3"
      ],
      "metadata": {
        "id": "hlw0cAo-6HTs",
        "outputId": "68c33a6a-1a0f-48a2-dc92-b49b47bd3585",
        "colab": {
          "base_uri": "https://localhost:8080/",
          "height": 34
        }
      },
      "execution_count": 14,
      "outputs": [
        {
          "output_type": "display_data",
          "data": {
            "text/html": [
              "81124.9383605312"
            ],
            "text/markdown": "81124.9383605312",
            "text/latex": "81124.9383605312",
            "text/plain": [
              "[1] 81124.94"
            ]
          },
          "metadata": {}
        }
      ]
    },
    {
      "cell_type": "markdown",
      "source": [
        "- Empleando el mismo workspace que empleaste en la pregunta anterior, multiplica los objetos obj1 y obj2.\n",
        "\n",
        "\n",
        "El resultado es:"
      ],
      "metadata": {
        "id": "nCL793im2Ldv"
      }
    },
    {
      "cell_type": "code",
      "source": [
        "obj1 * obj2"
      ],
      "metadata": {
        "id": "ug5Oyhdi2O8z",
        "outputId": "dd4697f2-bfcf-4129-fdea-2bc677a62e6f",
        "colab": {
          "base_uri": "https://localhost:8080/",
          "height": 34
        }
      },
      "execution_count": 40,
      "outputs": [
        {
          "output_type": "display_data",
          "data": {
            "text/html": [
              "1875"
            ],
            "text/markdown": "1875",
            "text/latex": "1875",
            "text/plain": [
              "[1] 1875"
            ]
          },
          "metadata": {}
        }
      ]
    },
    {
      "cell_type": "markdown",
      "source": [
        "- ¿Cuál de las siguientes operaciones genera como resultado FALSE?"
      ],
      "metadata": {
        "id": "h935mfaY26Z1"
      }
    },
    {
      "cell_type": "code",
      "source": [
        "9 + (5*4) != 9 + 5 * 4"
      ],
      "metadata": {
        "id": "pYwGcZxQ28Km",
        "outputId": "e4879567-c99f-4dc1-e46e-64529d2160ce",
        "colab": {
          "base_uri": "https://localhost:8080/",
          "height": 34
        }
      },
      "execution_count": 42,
      "outputs": [
        {
          "output_type": "display_data",
          "data": {
            "text/html": [
              "FALSE"
            ],
            "text/markdown": "FALSE",
            "text/latex": "FALSE",
            "text/plain": [
              "[1] FALSE"
            ]
          },
          "metadata": {}
        }
      ]
    },
    {
      "cell_type": "markdown",
      "source": [
        "# Objetos\n",
        "\n",
        "Ya tenemos claro cómo hacer operaciones en R. Ahora, concentremos nuestra atención en las principales clases de objetos que podemos encontrar en R.\n",
        "\n",
        "Lee el Capítulo 5 del libro Empezando a usaR: Una guía paso a paso."
      ],
      "metadata": {
        "id": "vW62u_3W3RNp"
      }
    },
    {
      "cell_type": "markdown",
      "metadata": {
        "id": "RrF_4_zy4Ea_"
      },
      "source": [
        "## Ejercicio 5\n",
        "\n",
        "En un estudio médico los pacientes deben ser excluidos de este si pesan más de 90 kg o si son menores de 18 años o mayores de 60 años. La prueba para el primer día del estudio permitió recoger los datos que se presentan en el Cuadro1.\n",
        "\n",
        "| Paciente | Edad (años) | Peso (kg) |\n",
        "| --- | --- | --- |\n",
        "| 1 | 50 | 80\n",
        "| 2 | 17 | 75\n",
        "| 3 | 39 | 92\n",
        "| 4 | 27 | 105\n",
        "| 5 | 90 | 60\n",
        "\n",
        "Nuestro objetivo es determinar cuántos pacientes del primer día son aptos para el estudio."
      ]
    },
    {
      "cell_type": "markdown",
      "metadata": {
        "id": "6h_Kji2C4l1u"
      },
      "source": [
        "\n",
        "### a.\n",
        "\n",
        "Crea un objeto que contenga las edades y nómbralo edad."
      ]
    },
    {
      "cell_type": "code",
      "execution_count": 76,
      "metadata": {
        "id": "ls69irC94mHQ",
        "vscode": {
          "languageId": "r"
        }
      },
      "outputs": [],
      "source": [
        "ages <- c(50, 17, 39, 27, 90)"
      ]
    },
    {
      "cell_type": "markdown",
      "metadata": {
        "id": "I4JIWIZ24mXD"
      },
      "source": [
        "### b.\n",
        "\n",
        "Crea un objeto que contenga el peso de cada uno de los pacientes y nómbralo peso."
      ]
    },
    {
      "cell_type": "code",
      "execution_count": 77,
      "metadata": {
        "id": "NfaxA53a4mhe",
        "vscode": {
          "languageId": "r"
        }
      },
      "outputs": [],
      "source": [
        "weights <- c(80, 75, 92, 105, 60)"
      ]
    },
    {
      "cell_type": "markdown",
      "metadata": {
        "id": "Vsd2VINS4mvh"
      },
      "source": [
        "### c.\n",
        "\n",
        "Crea un objeto que contenga el número de los pacientes. Guarda el objeto con el nombre ID."
      ]
    },
    {
      "cell_type": "code",
      "execution_count": 78,
      "metadata": {
        "id": "f3gWCtKE4m6R",
        "vscode": {
          "languageId": "r"
        }
      },
      "outputs": [],
      "source": [
        "ids <- seq(1, 5)"
      ]
    },
    {
      "cell_type": "markdown",
      "metadata": {
        "id": "wsD2Ua-45HMN"
      },
      "source": [
        "### d.\n",
        "\n",
        "Ahora creemos un data.frame cuya primera columna sea el objeto ID, la segunda columna (o variable) sea la edad y la tercera el peso. Llamemos a este objeto datos."
      ]
    },
    {
      "cell_type": "code",
      "execution_count": 81,
      "metadata": {
        "id": "M1kknEtf5HaQ",
        "vscode": {
          "languageId": "r"
        },
        "outputId": "49e631f6-00f6-4319-9beb-052e9a956733",
        "colab": {
          "base_uri": "https://localhost:8080/"
        }
      },
      "outputs": [
        {
          "output_type": "stream",
          "name": "stdout",
          "text": [
            "'data.frame':\t5 obs. of  3 variables:\n",
            " $ ID    : int  1 2 3 4 5\n",
            " $ age   : num  50 17 39 27 90\n",
            " $ weight: num  80 75 92 105 60\n"
          ]
        }
      ],
      "source": [
        "patients <- data.frame(ID = ids, age = ages, weight = weights)\n",
        "str(patients)"
      ]
    },
    {
      "cell_type": "markdown",
      "metadata": {
        "id": "1ZnABiBW5KTM"
      },
      "source": [
        "### e.\n",
        "\n",
        "Ahora escribe un código con Operaciones de relación y lógicas (ver sección 5.2.2 del libro) para encontrar que pacientes cumplen los dos criterios."
      ]
    },
    {
      "cell_type": "code",
      "execution_count": 49,
      "metadata": {
        "colab": {
          "base_uri": "https://localhost:8080/",
          "height": 34
        },
        "id": "RXeStcEo5Kga",
        "outputId": "68944353-143e-4a6a-9dbb-496952f60c0b",
        "vscode": {
          "languageId": "r"
        }
      },
      "outputs": [
        {
          "output_type": "display_data",
          "data": {
            "text/html": [
              "1"
            ],
            "text/markdown": "1",
            "text/latex": "1",
            "text/plain": [
              "[1] 1"
            ]
          },
          "metadata": {}
        }
      ],
      "source": [
        "eligible <- patients$weight <= 90 & patients$age >=18 & patients$age <= 60\n",
        "\n",
        "# exactly which?\n",
        "patients$ID[which(eligible)]"
      ]
    },
    {
      "cell_type": "markdown",
      "metadata": {
        "id": "5wT8vgIk5xue"
      },
      "source": [
        "### f.\n",
        "\n",
        "Empleando código, encuentra la edad de la cuarta paciente"
      ]
    },
    {
      "cell_type": "code",
      "execution_count": 50,
      "metadata": {
        "colab": {
          "base_uri": "https://localhost:8080/",
          "height": 69
        },
        "id": "LjglNoxD5x7O",
        "outputId": "dd115ab1-570b-4755-d0cd-2843083bbfbe",
        "vscode": {
          "languageId": "r"
        }
      },
      "outputs": [
        {
          "output_type": "display_data",
          "data": {
            "text/html": [
              "27"
            ],
            "text/markdown": "27",
            "text/latex": "27",
            "text/plain": [
              "[1] 27"
            ]
          },
          "metadata": {}
        },
        {
          "output_type": "display_data",
          "data": {
            "text/html": [
              "27"
            ],
            "text/markdown": "27",
            "text/latex": "27",
            "text/plain": [
              "[1] 27"
            ]
          },
          "metadata": {}
        },
        {
          "output_type": "display_data",
          "data": {
            "text/html": [
              "27"
            ],
            "text/markdown": "27",
            "text/latex": "27",
            "text/plain": [
              "[1] 27"
            ]
          },
          "metadata": {}
        }
      ],
      "source": [
        "patients[4, \"age\"]\n",
        "\n",
        "patients[4, 2]\n",
        "\n",
        "patients$age[4]"
      ]
    },
    {
      "cell_type": "markdown",
      "metadata": {
        "id": "mS23HaE77NTs"
      },
      "source": [
        "## Ejercicio 6\n",
        "\n",
        "\n",
        "1. Guarda tu script en un archivo con el nombre `Script_ejer_cap_5.R`.\n",
        "\n",
        "\n",
        "2. Guarda tu workspace en un archivo con el nombre `Ws_ejer_cap_5.RData`.\n"
      ]
    },
    {
      "cell_type": "code",
      "execution_count": 51,
      "metadata": {
        "id": "fFPAhD907fUi",
        "vscode": {
          "languageId": "r"
        }
      },
      "outputs": [],
      "source": [
        "# 1 can only be done in desktop\n",
        "\n",
        "save.image(file = \"Ws_ejer_cap_5.RData\")"
      ]
    },
    {
      "cell_type": "code",
      "execution_count": 11,
      "metadata": {
        "id": "GnjK4AAx6bTY",
        "vscode": {
          "languageId": "r"
        }
      },
      "outputs": [],
      "source": [
        "rm(list = ls())"
      ]
    },
    {
      "cell_type": "markdown",
      "source": [
        "## Preguntas 2\n",
        "\n",
        "- Si estamos construyendo una base de datos con los clientes de una organización, el nombre de los clientes debería guardarse en un objeto de clase `character`.\n",
        "\n",
        "- Para conocer la clase de todas las variables de un objeto de clase data.frame se puede emplear la función `str()`.\n",
        "\n",
        "- Las unidades de carros vendidos en un mes debería ser un objeto de clase `integer`."
      ],
      "metadata": {
        "id": "mZ31Uxvx4b0t"
      }
    },
    {
      "cell_type": "markdown",
      "source": [
        "# WD\n",
        "\n",
        "Ya tenemos claro cómo hacer operaciones en R y las clases de objetos. Ahora, concentremos nuestra atención en el directorio de trabajo.\n",
        "\n",
        "Lee el Capítulo 6 del libro Empezando a usaR: Una guía paso a paso."
      ],
      "metadata": {
        "id": "wol5lzJ45NVF"
      }
    },
    {
      "cell_type": "markdown",
      "source": [
        "## Preguntas 3\n",
        "\n",
        "- El working directory (directorio de trabajo) es importante cuando trabajamos en R por qué `es el archivo que contiene todos los objetos`. Esta está mal\n",
        "\n",
        "- La función que nos permite ver cuál es el directorio de trabajo (working directory) es `getwd()`."
      ],
      "metadata": {
        "id": "2f8qBf-v5SOD"
      }
    },
    {
      "cell_type": "markdown",
      "metadata": {
        "id": "xY3Mdakb7oDF"
      },
      "source": [
        "## Quiz"
      ]
    },
    {
      "cell_type": "markdown",
      "metadata": {
        "id": "6L33kzRx1k07"
      },
      "source": [
        "Carga el archivo EvalsegSem.RData. En este archivo encontrarás un objeto de clase data.frame. Empleando código podemos encontrar que la observación 242 de la segunda variable es\n",
        "\n"
      ]
    },
    {
      "cell_type": "code",
      "execution_count": 67,
      "metadata": {
        "id": "slRNe-L10LoA",
        "vscode": {
          "languageId": "r"
        }
      },
      "outputs": [],
      "source": [
        "load(\"/content/second_semester_evaluation.RData\")\n",
        "\n",
        "all_objects <- ls()"
      ]
    },
    {
      "cell_type": "code",
      "source": [
        "# find out which objects are data.frames\n",
        "data_frames <- all_objects[sapply(all_objects, function(x) is.data.frame(get(x)))]\n",
        "data_frames"
      ],
      "metadata": {
        "id": "vyqzwI-U4AbL",
        "outputId": "168d5421-2f31-4568-f442-a46a22deb54b",
        "colab": {
          "base_uri": "https://localhost:8080/",
          "height": 34
        }
      },
      "execution_count": 82,
      "outputs": [
        {
          "output_type": "display_data",
          "data": {
            "text/html": [
              "'datos1'"
            ],
            "text/markdown": "'datos1'",
            "text/latex": "'datos1'",
            "text/plain": [
              "[1] \"datos1\""
            ]
          },
          "metadata": {}
        }
      ]
    },
    {
      "cell_type": "code",
      "source": [
        "datos1[242, 2]"
      ],
      "metadata": {
        "id": "SNx2IUe94RZ3",
        "outputId": "c55b5bf3-6401-4a37-bc35-01429f626531",
        "colab": {
          "base_uri": "https://localhost:8080/",
          "height": 34
        }
      },
      "execution_count": 69,
      "outputs": [
        {
          "output_type": "display_data",
          "data": {
            "text/html": [
              "27.9"
            ],
            "text/markdown": "27.9",
            "text/latex": "27.9",
            "text/plain": [
              "[1] 27.9"
            ]
          },
          "metadata": {}
        }
      ]
    }
  ],
  "metadata": {
    "colab": {
      "provenance": [],
      "include_colab_link": true
    },
    "kernelspec": {
      "display_name": "R",
      "name": "ir"
    },
    "language_info": {
      "name": "R"
    }
  },
  "nbformat": 4,
  "nbformat_minor": 0
}