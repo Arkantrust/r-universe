{
  "cells": [
    {
      "cell_type": "markdown",
      "metadata": {
        "id": "view-in-github",
        "colab_type": "text"
      },
      "source": [
        "<a href=\"https://colab.research.google.com/github/Arkantrust/r-universe/blob/main/module_2/module_2.ipynb\" target=\"_parent\"><img src=\"https://colab.research.google.com/assets/colab-badge.svg\" alt=\"Open In Colab\"/></a>"
      ]
    },
    {
      "cell_type": "markdown",
      "metadata": {
        "id": "YX1t3Gyw3spj"
      },
      "source": [
        "# Module 2: Objects and Operations\n",
        "\n",
        "## David Dulce"
      ]
    },
    {
      "cell_type": "markdown",
      "metadata": {
        "id": "2OWn4kKf79qw"
      },
      "source": [
        "## Ejercicio 1"
      ]
    },
    {
      "cell_type": "markdown",
      "metadata": {
        "id": "9D1CJwQs8FjE"
      },
      "source": [
        "Multiplica 4 por 7."
      ]
    },
    {
      "cell_type": "code",
      "execution_count": null,
      "metadata": {
        "colab": {
          "base_uri": "https://localhost:8080/",
          "height": 34
        },
        "id": "VHAu7APi799b",
        "outputId": "42a95130-29d1-4055-8d75-f3be36021d53",
        "vscode": {
          "languageId": "r"
        }
      },
      "outputs": [
        {
          "data": {
            "text/html": [
              "28"
            ],
            "text/latex": [
              "28"
            ],
            "text/markdown": [
              "28"
            ],
            "text/plain": [
              "[1] 28"
            ]
          },
          "metadata": {},
          "output_type": "display_data"
        }
      ],
      "source": [
        "4 * 7"
      ]
    },
    {
      "cell_type": "markdown",
      "metadata": {
        "id": "lOWV0eM-8Ihf"
      },
      "source": [
        "Eleva 78 a la potencia de 3."
      ]
    },
    {
      "cell_type": "code",
      "execution_count": null,
      "metadata": {
        "colab": {
          "base_uri": "https://localhost:8080/",
          "height": 34
        },
        "id": "YMsPvowW8Isu",
        "outputId": "6e810e50-9162-4731-8af5-264ee97b36ee",
        "vscode": {
          "languageId": "r"
        }
      },
      "outputs": [
        {
          "data": {
            "text/html": [
              "474552"
            ],
            "text/latex": [
              "474552"
            ],
            "text/markdown": [
              "474552"
            ],
            "text/plain": [
              "[1] 474552"
            ]
          },
          "metadata": {},
          "output_type": "display_data"
        }
      ],
      "source": [
        "78^3"
      ]
    },
    {
      "cell_type": "markdown",
      "metadata": {
        "id": "Sg-7vA4y8I1T"
      },
      "source": [
        "En una sola línea de código, resta 2,5 a 10 y luego eleva la respuesta a la potencia de 1.3 y a toda esa cantidad súmale 1.789."
      ]
    },
    {
      "cell_type": "code",
      "execution_count": null,
      "metadata": {
        "colab": {
          "base_uri": "https://localhost:8080/",
          "height": 34
        },
        "id": "JOix3PZ-8JHf",
        "outputId": "45b8f5cb-5cd0-4d38-fbb2-076dcd14abf9",
        "vscode": {
          "languageId": "r"
        }
      },
      "outputs": [
        {
          "data": {
            "text/html": [
              "15.5161267067718"
            ],
            "text/latex": [
              "15.5161267067718"
            ],
            "text/markdown": [
              "15.5161267067718"
            ],
            "text/plain": [
              "[1] 15.51613"
            ]
          },
          "metadata": {},
          "output_type": "display_data"
        }
      ],
      "source": [
        "(10 - 2.5)^1.3 + 1.789"
      ]
    },
    {
      "cell_type": "markdown",
      "metadata": {
        "id": "CWcAPDD08JVp"
      },
      "source": [
        "Divide 5 entre 2,5 y luego divide la respuesta entre 4 (todo en una sola linea de código)."
      ]
    },
    {
      "cell_type": "code",
      "execution_count": null,
      "metadata": {
        "colab": {
          "base_uri": "https://localhost:8080/",
          "height": 34
        },
        "id": "aSqNU0I88Jhm",
        "outputId": "1dca4d08-d364-4703-b2c3-3bf339e7619f",
        "vscode": {
          "languageId": "r"
        }
      },
      "outputs": [
        {
          "data": {
            "text/html": [
              "0.5"
            ],
            "text/latex": [
              "0.5"
            ],
            "text/markdown": [
              "0.5"
            ],
            "text/plain": [
              "[1] 0.5"
            ]
          },
          "metadata": {},
          "output_type": "display_data"
        }
      ],
      "source": [
        "( 5 / 2.5 ) / 4"
      ]
    },
    {
      "cell_type": "markdown",
      "metadata": {
        "id": "3EUdznxU8aL4"
      },
      "source": [
        "## Ejercicio 2"
      ]
    },
    {
      "cell_type": "markdown",
      "metadata": {
        "id": "hufJpMzr8mAj"
      },
      "source": [
        "Crea un objeto llamado obj1 en el que asignes el número 15."
      ]
    },
    {
      "cell_type": "code",
      "execution_count": null,
      "metadata": {
        "colab": {
          "base_uri": "https://localhost:8080/",
          "height": 34
        },
        "id": "5XkXLqFg8mKj",
        "outputId": "f2c05a31-80be-4639-e263-d8b6ce9c0891",
        "vscode": {
          "languageId": "r"
        }
      },
      "outputs": [
        {
          "data": {
            "text/html": [
              "15"
            ],
            "text/latex": [
              "15"
            ],
            "text/markdown": [
              "15"
            ],
            "text/plain": [
              "[1] 15"
            ]
          },
          "metadata": {},
          "output_type": "display_data"
        }
      ],
      "source": [
        "obj1 <- 15\n",
        "obj1"
      ]
    },
    {
      "cell_type": "markdown",
      "metadata": {
        "id": "H87x0ibt8mXw"
      },
      "source": [
        "Crea un objeto llamado obj2 con el resultado de la suma de 100 + 25."
      ]
    },
    {
      "cell_type": "code",
      "execution_count": null,
      "metadata": {
        "colab": {
          "base_uri": "https://localhost:8080/",
          "height": 34
        },
        "id": "hAk6yx-w8mhv",
        "outputId": "901984a7-45b4-4939-8d4c-525ebb3a6348",
        "vscode": {
          "languageId": "r"
        }
      },
      "outputs": [
        {
          "data": {
            "text/html": [
              "125"
            ],
            "text/latex": [
              "125"
            ],
            "text/markdown": [
              "125"
            ],
            "text/plain": [
              "[1] 125"
            ]
          },
          "metadata": {},
          "output_type": "display_data"
        }
      ],
      "source": [
        "obj2 <- 100 + 25\n",
        "obj2"
      ]
    },
    {
      "cell_type": "markdown",
      "metadata": {
        "id": "AXEmGZ2f8m1q"
      },
      "source": [
        "Multiplica los objetos obj1 y obj2 y guarda la respuesta en el objeto obj3."
      ]
    },
    {
      "cell_type": "code",
      "execution_count": null,
      "metadata": {
        "colab": {
          "base_uri": "https://localhost:8080/",
          "height": 34
        },
        "id": "GxL-ts4x8nDt",
        "outputId": "a1a7f542-afb0-4a33-a4cb-0a9373bad88a",
        "vscode": {
          "languageId": "r"
        }
      },
      "outputs": [
        {
          "data": {
            "text/html": [
              "1875"
            ],
            "text/latex": [
              "1875"
            ],
            "text/markdown": [
              "1875"
            ],
            "text/plain": [
              "[1] 1875"
            ]
          },
          "metadata": {},
          "output_type": "display_data"
        }
      ],
      "source": [
        "obj3 <- obj1 * obj2\n",
        "obj3"
      ]
    },
    {
      "cell_type": "markdown",
      "metadata": {
        "id": "iFRcufa_8nPu"
      },
      "source": [
        "Resta 1 a obj3 y calcula la raíz cuadrada de ese resultado. Guarda esto como un objeto llamado obj4."
      ]
    },
    {
      "cell_type": "code",
      "execution_count": null,
      "metadata": {
        "colab": {
          "base_uri": "https://localhost:8080/",
          "height": 34
        },
        "id": "paOPwD0n8v5g",
        "outputId": "65eaf393-ac60-49f4-f3ae-5cf5267011d2",
        "vscode": {
          "languageId": "r"
        }
      },
      "outputs": [
        {
          "data": {
            "text/html": [
              "43.2897216438267"
            ],
            "text/latex": [
              "43.2897216438267"
            ],
            "text/markdown": [
              "43.2897216438267"
            ],
            "text/plain": [
              "[1] 43.28972"
            ]
          },
          "metadata": {},
          "output_type": "display_data"
        }
      ],
      "source": [
        "obj4 <- sqrt(obj3 - 1)\n",
        "obj4"
      ]
    },
    {
      "cell_type": "markdown",
      "metadata": {
        "id": "8V1MOEMa8wNC"
      },
      "source": [
        "Muestra el obj4 en la consola."
      ]
    },
    {
      "cell_type": "code",
      "execution_count": null,
      "metadata": {
        "colab": {
          "base_uri": "https://localhost:8080/"
        },
        "id": "sLGdOny68nay",
        "outputId": "e3f65fe1-fcee-4f9e-ff8a-ef66f9423a8a",
        "vscode": {
          "languageId": "r"
        }
      },
      "outputs": [
        {
          "name": "stdout",
          "output_type": "stream",
          "text": [
            "[1] 43.28972\n"
          ]
        }
      ],
      "source": [
        "print(obj4)"
      ]
    },
    {
      "cell_type": "markdown",
      "metadata": {
        "id": "yH5btViO-cDM"
      },
      "source": [
        "## Ejercicio 3"
      ]
    },
    {
      "cell_type": "markdown",
      "metadata": {
        "id": "pWaHVI-r-fW9"
      },
      "source": [
        "Un concesionario de carros está estudiando cuánto tiempo le toma a sus clientes comprar un nuevo carro (contados a partir de la última compra en le concesionario del carro anterior) se recogen los datos que se presentan a continuación. Tiempo para la compra del siguiente carro en el concesionario (en meses)\n",
        "\n",
        "\n",
        "| Client | Time |\n",
        "| ------ | ---- |\n",
        "| 1 |\t29 |\n",
        "| 2 |\t63 |\n",
        "| 3 |\t7 |\n",
        "| 4 |\t23 |\n",
        "| 5 |\t84 |\n",
        "| 6 |\t10 |\n",
        "| 7 |\t9 |\n",
        "\n",
        "Crea un objeto con los meses y encuentra el tiempo a comprar el siguiente carro en años. Para esto divide la duración de todos los clientes por 12."
      ]
    },
    {
      "cell_type": "code",
      "execution_count": null,
      "metadata": {
        "colab": {
          "base_uri": "https://localhost:8080/",
          "height": 34
        },
        "id": "JWfOX3T7-_3y",
        "outputId": "1990aa43-319e-4499-9deb-1aa3f8718083",
        "vscode": {
          "languageId": "r"
        }
      },
      "outputs": [
        {
          "data": {
            "text/html": [
              "<style>\n",
              ".list-inline {list-style: none; margin:0; padding: 0}\n",
              ".list-inline>li {display: inline-block}\n",
              ".list-inline>li:not(:last-child)::after {content: \"\\00b7\"; padding: 0 .5ex}\n",
              "</style>\n",
              "<ol class=list-inline><li>29</li><li>63</li><li>7</li><li>23</li><li>84</li><li>10</li><li>9</li></ol>\n"
            ],
            "text/latex": [
              "\\begin{enumerate*}\n",
              "\\item 29\n",
              "\\item 63\n",
              "\\item 7\n",
              "\\item 23\n",
              "\\item 84\n",
              "\\item 10\n",
              "\\item 9\n",
              "\\end{enumerate*}\n"
            ],
            "text/markdown": [
              "1. 29\n",
              "2. 63\n",
              "3. 7\n",
              "4. 23\n",
              "5. 84\n",
              "6. 10\n",
              "7. 9\n",
              "\n",
              "\n"
            ],
            "text/plain": [
              "[1] 29 63  7 23 84 10  9"
            ]
          },
          "metadata": {},
          "output_type": "display_data"
        }
      ],
      "source": [
        "time.months <- c(29, 63, 7, 23, 84, 10, 9)\n",
        "time.months"
      ]
    },
    {
      "cell_type": "markdown",
      "metadata": {
        "id": "1tSH_T36_noa"
      },
      "source": [
        "Converting to years"
      ]
    },
    {
      "cell_type": "code",
      "execution_count": null,
      "metadata": {
        "colab": {
          "base_uri": "https://localhost:8080/",
          "height": 34
        },
        "id": "DSSEwwfK_oEu",
        "outputId": "cb435a4d-5d56-47bb-ce88-a606339af93a",
        "vscode": {
          "languageId": "r"
        }
      },
      "outputs": [
        {
          "data": {
            "text/html": [
              "<style>\n",
              ".list-inline {list-style: none; margin:0; padding: 0}\n",
              ".list-inline>li {display: inline-block}\n",
              ".list-inline>li:not(:last-child)::after {content: \"\\00b7\"; padding: 0 .5ex}\n",
              "</style>\n",
              "<ol class=list-inline><li>2.41666666666667</li><li>5.25</li><li>0.583333333333333</li><li>1.91666666666667</li><li>7</li><li>0.833333333333333</li><li>0.75</li></ol>\n"
            ],
            "text/latex": [
              "\\begin{enumerate*}\n",
              "\\item 2.41666666666667\n",
              "\\item 5.25\n",
              "\\item 0.583333333333333\n",
              "\\item 1.91666666666667\n",
              "\\item 7\n",
              "\\item 0.833333333333333\n",
              "\\item 0.75\n",
              "\\end{enumerate*}\n"
            ],
            "text/markdown": [
              "1. 2.41666666666667\n",
              "2. 5.25\n",
              "3. 0.583333333333333\n",
              "4. 1.91666666666667\n",
              "5. 7\n",
              "6. 0.833333333333333\n",
              "7. 0.75\n",
              "\n",
              "\n"
            ],
            "text/plain": [
              "[1] 2.4166667 5.2500000 0.5833333 1.9166667 7.0000000 0.8333333 0.7500000"
            ]
          },
          "metadata": {},
          "output_type": "display_data"
        }
      ],
      "source": [
        "time.years <- time.months /12\n",
        "time.years"
      ]
    },
    {
      "cell_type": "markdown",
      "metadata": {
        "id": "Qalwy9uK_CaS"
      },
      "source": [
        "## Ejercicio 4\n",
        "\n",
        "1. Guarda tu script en un archivo con el nombre `Script_ejer_cap_4.R`.\n",
        "\n",
        "2. Guarda tu workspace en un archivo con el nombre `Ws_ejer_cap_4.RData`."
      ]
    },
    {
      "cell_type": "code",
      "execution_count": null,
      "metadata": {
        "id": "4fYtoNSk_Ks4",
        "vscode": {
          "languageId": "r"
        }
      },
      "outputs": [],
      "source": [
        "# 1 can only be done in desktop\n",
        "\n",
        "save.image(file = \"Ws_ejer_cap_4.RData\")"
      ]
    },
    {
      "cell_type": "markdown",
      "metadata": {
        "id": "RrF_4_zy4Ea_"
      },
      "source": [
        "## Ejercicio 5\n",
        "\n",
        "En un estudio médico los pacientes deben ser excluidos de este si pesan más de 90 kg o si son menores de 18 años o mayores de 60 años. La prueba para el primer día del estudio permitió recoger los datos que se presentan en el Cuadro1.\n",
        "\n",
        "| Paciente | Edad (años) | Peso (kg) |\n",
        "| --- | --- | --- |\n",
        "| 1 | 50 | 80\n",
        "| 2 | 17 | 75\n",
        "| 3 | 39 | 92\n",
        "| 4 | 27 | 105\n",
        "| 5 | 90 | 60\n",
        "\n",
        "Nuestro objetivo es determinar cuántos pacientes del primer día son aptos para el estudio."
      ]
    },
    {
      "cell_type": "markdown",
      "metadata": {
        "id": "6h_Kji2C4l1u"
      },
      "source": [
        "\n",
        "### a.\n",
        "\n",
        "Crea un objeto que contenga las edades y nómbralo edad."
      ]
    },
    {
      "cell_type": "code",
      "execution_count": null,
      "metadata": {
        "id": "ls69irC94mHQ",
        "vscode": {
          "languageId": "r"
        }
      },
      "outputs": [],
      "source": [
        "ages <- c(50, 17, 39, 27, 90)"
      ]
    },
    {
      "cell_type": "markdown",
      "metadata": {
        "id": "I4JIWIZ24mXD"
      },
      "source": [
        "### b.\n",
        "\n",
        "Crea un objeto que contenga el peso de cada uno de los pacientes y nómbralo peso."
      ]
    },
    {
      "cell_type": "code",
      "execution_count": null,
      "metadata": {
        "id": "NfaxA53a4mhe",
        "vscode": {
          "languageId": "r"
        }
      },
      "outputs": [],
      "source": [
        "weights <- c(80, 75, 92, 105, 60)"
      ]
    },
    {
      "cell_type": "markdown",
      "metadata": {
        "id": "Vsd2VINS4mvh"
      },
      "source": [
        "### c.\n",
        "\n",
        "Crea un objeto que contenga el número de los pacientes. Guarda el objeto con el nombre ID."
      ]
    },
    {
      "cell_type": "code",
      "execution_count": null,
      "metadata": {
        "id": "f3gWCtKE4m6R",
        "vscode": {
          "languageId": "r"
        }
      },
      "outputs": [],
      "source": [
        "ids <- seq(1, 5)"
      ]
    },
    {
      "cell_type": "markdown",
      "metadata": {
        "id": "wsD2Ua-45HMN"
      },
      "source": [
        "### d.\n",
        "\n",
        "Ahora creemos un data.frame cuya primera columna sea el objeto ID, la segunda columna (o variable) sea la edad y la tercera el peso. Llamemos a este objeto datos."
      ]
    },
    {
      "cell_type": "code",
      "execution_count": null,
      "metadata": {
        "id": "M1kknEtf5HaQ",
        "vscode": {
          "languageId": "r"
        }
      },
      "outputs": [],
      "source": [
        "patients <- data.frame(ID = ids, age = ages, weight = weights)"
      ]
    },
    {
      "cell_type": "markdown",
      "metadata": {
        "id": "1ZnABiBW5KTM"
      },
      "source": [
        "### e.\n",
        "\n",
        "Ahora escribe un código con Operaciones de relación y lógicas (ver sección 5.2.2 del libro) para encontrar que pacientes cumplen los dos criterios."
      ]
    },
    {
      "cell_type": "code",
      "execution_count": null,
      "metadata": {
        "colab": {
          "base_uri": "https://localhost:8080/",
          "height": 34
        },
        "id": "RXeStcEo5Kga",
        "outputId": "e35d4b59-c902-4486-9338-587340e3b5ab",
        "vscode": {
          "languageId": "r"
        }
      },
      "outputs": [
        {
          "data": {
            "text/html": [
              "1"
            ],
            "text/latex": [
              "1"
            ],
            "text/markdown": [
              "1"
            ],
            "text/plain": [
              "[1] 1"
            ]
          },
          "metadata": {},
          "output_type": "display_data"
        }
      ],
      "source": [
        "eligible <- patients$weight <= 90 & patients$age >=18 & patients$age <= 60\n",
        "\n",
        "# exactly which?\n",
        "patients$ID[which(eligible)]"
      ]
    },
    {
      "cell_type": "markdown",
      "metadata": {
        "id": "5wT8vgIk5xue"
      },
      "source": [
        "### f.\n",
        "\n",
        "Empleando código, encuentra la edad de la cuarta paciente"
      ]
    },
    {
      "cell_type": "code",
      "execution_count": null,
      "metadata": {
        "colab": {
          "base_uri": "https://localhost:8080/",
          "height": 69
        },
        "id": "LjglNoxD5x7O",
        "outputId": "28cbc2b4-63b4-4791-abb1-d7e86269164c",
        "vscode": {
          "languageId": "r"
        }
      },
      "outputs": [
        {
          "data": {
            "text/html": [
              "27"
            ],
            "text/latex": [
              "27"
            ],
            "text/markdown": [
              "27"
            ],
            "text/plain": [
              "[1] 27"
            ]
          },
          "metadata": {},
          "output_type": "display_data"
        },
        {
          "data": {
            "text/html": [
              "27"
            ],
            "text/latex": [
              "27"
            ],
            "text/markdown": [
              "27"
            ],
            "text/plain": [
              "[1] 27"
            ]
          },
          "metadata": {},
          "output_type": "display_data"
        },
        {
          "data": {
            "text/html": [
              "27"
            ],
            "text/latex": [
              "27"
            ],
            "text/markdown": [
              "27"
            ],
            "text/plain": [
              "[1] 27"
            ]
          },
          "metadata": {},
          "output_type": "display_data"
        }
      ],
      "source": [
        "patients[4, \"age\"]\n",
        "\n",
        "patients[4, 2]\n",
        "\n",
        "patients$age[4]"
      ]
    },
    {
      "cell_type": "markdown",
      "metadata": {
        "id": "mS23HaE77NTs"
      },
      "source": [
        "## Ejercicio 6\n",
        "\n",
        "\n",
        "1. Guarda tu script en un archivo con el nombre `Script_ejer_cap_5.R`.\n",
        "\n",
        "\n",
        "2. Guarda tu workspace en un archivo con el nombre `Ws_ejer_cap_5.RData`.\n"
      ]
    },
    {
      "cell_type": "code",
      "execution_count": null,
      "metadata": {
        "id": "fFPAhD907fUi",
        "vscode": {
          "languageId": "r"
        }
      },
      "outputs": [],
      "source": [
        "# 1 can only be done in desktop\n",
        "\n",
        "save.image(file = \"Ws_ejer_cap_5.RData\")"
      ]
    },
    {
      "cell_type": "code",
      "execution_count": null,
      "metadata": {
        "id": "GnjK4AAx6bTY",
        "vscode": {
          "languageId": "r"
        }
      },
      "outputs": [],
      "source": [
        "rm(list = ls())"
      ]
    },
    {
      "cell_type": "markdown",
      "metadata": {
        "id": "xY3Mdakb7oDF"
      },
      "source": [
        "## Quiz"
      ]
    },
    {
      "cell_type": "markdown",
      "metadata": {
        "id": "6L33kzRx1k07"
      },
      "source": [
        "Carga el archivo EvalsegSem.RData. En este archivo encontrarás un objeto de clase data.frame. Empleando código podemos encontrar que la observación 242 de la segunda variable es\n",
        "\n"
      ]
    },
    {
      "cell_type": "code",
      "execution_count": null,
      "metadata": {
        "colab": {
          "base_uri": "https://localhost:8080/",
          "height": 52
        },
        "id": "slRNe-L10LoA",
        "outputId": "57f003d6-8c8a-4f9f-b630-4eeea96b0e52",
        "vscode": {
          "languageId": "r"
        }
      },
      "outputs": [
        {
          "name": "stdout",
          "output_type": "stream",
          "text": [
            "[1] \"datos1\"   \"patients\"\n"
          ]
        },
        {
          "data": {
            "text/html": [
              "27.9"
            ],
            "text/latex": [
              "27.9"
            ],
            "text/markdown": [
              "27.9"
            ],
            "text/plain": [
              "[1] 27.9"
            ]
          },
          "metadata": {},
          "output_type": "display_data"
        }
      ],
      "source": [
        "load(\"/content/second_semester_evaluation.RData\")\n",
        "\n",
        "all_objects <- ls()\n",
        "\n",
        "data <- datos1\n",
        "\n",
        "data_frames <- all_objects[sapply(all_objects, function(x) is.data.frame(get(x)))]\n",
        "\n",
        "print(data_frames)\n",
        "\n",
        "data[242, 2]"
      ]
    }
  ],
  "metadata": {
    "colab": {
      "provenance": [],
      "include_colab_link": true
    },
    "kernelspec": {
      "display_name": "R",
      "name": "ir"
    },
    "language_info": {
      "name": "R"
    }
  },
  "nbformat": 4,
  "nbformat_minor": 0
}